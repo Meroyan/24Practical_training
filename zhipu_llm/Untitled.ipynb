{
 "cells": [
  {
   "cell_type": "code",
   "execution_count": 1,
   "id": "7a365631-82f2-4861-aebe-8a36eafa733e",
   "metadata": {},
   "outputs": [
    {
     "name": "stdout",
     "output_type": "stream",
     "text": [
      "bb65dfb1df68734c8d44d23db113a346.IdyEuDneYjcgDN4j\n"
     ]
    }
   ],
   "source": [
    "from dotenv import find_dotenv, load_dotenv\n",
    "import os\n",
    "\n",
    "_ =load_dotenv(find_dotenv())\n",
    "\n",
    "print(os.environ[\"ZHIPU_KEY\"])\n"
   ]
  },
  {
   "cell_type": "code",
   "execution_count": 7,
   "id": "8118e181-de79-4cfe-b9ae-8e0abff73483",
   "metadata": {},
   "outputs": [
    {
     "name": "stdout",
     "output_type": "stream",
     "text": [
      "ChoiceDelta(content='你好', role='assistant', tool_calls=None)\n",
      "ChoiceDelta(content='！', role='assistant', tool_calls=None)\n",
      "ChoiceDelta(content='我是', role='assistant', tool_calls=None)\n",
      "ChoiceDelta(content='智', role='assistant', tool_calls=None)\n",
      "ChoiceDelta(content='谱', role='assistant', tool_calls=None)\n",
      "ChoiceDelta(content='清', role='assistant', tool_calls=None)\n",
      "ChoiceDelta(content='言', role='assistant', tool_calls=None)\n",
      "ChoiceDelta(content='，', role='assistant', tool_calls=None)\n",
      "ChoiceDelta(content='很高兴', role='assistant', tool_calls=None)\n",
      "ChoiceDelta(content='为您提供', role='assistant', tool_calls=None)\n",
      "ChoiceDelta(content='帮助', role='assistant', tool_calls=None)\n",
      "ChoiceDelta(content='。', role='assistant', tool_calls=None)\n",
      "ChoiceDelta(content='请问', role='assistant', tool_calls=None)\n",
      "ChoiceDelta(content='有什么', role='assistant', tool_calls=None)\n",
      "ChoiceDelta(content='我可以', role='assistant', tool_calls=None)\n",
      "ChoiceDelta(content='为您', role='assistant', tool_calls=None)\n",
      "ChoiceDelta(content='服务的', role='assistant', tool_calls=None)\n",
      "ChoiceDelta(content='？', role='assistant', tool_calls=None)\n",
      "ChoiceDelta(content='', role='assistant', tool_calls=None)\n"
     ]
    }
   ],
   "source": [
    "from zhipuai import ZhipuAI\n",
    "client = ZhipuAI(api_key=\"bb65dfb1df68734c8d44d23db113a346.IdyEuDneYjcgDN4j\") # 请填写您自己的APIKey\n",
    "response = client.chat.completions.create(\n",
    "  model=\"glm-4\",  # 填写需要调用的模型名称\n",
    "    messages=[\n",
    "        {\"role\": \"user\", \"content\": \"你好！你叫什么名字\"},\n",
    "    ],\n",
    "    stream=True,\n",
    "    )\n",
    "for chunk in response:\n",
    "    print(chunk.choices[0].delta)"
   ]
  },
  {
   "cell_type": "code",
   "execution_count": null,
   "id": "3654823a-a5cd-461d-9b6c-5ec2cbec3902",
   "metadata": {},
   "outputs": [],
   "source": []
  }
 ],
 "metadata": {
  "kernelspec": {
   "display_name": "Python 3 (ipykernel)",
   "language": "python",
   "name": "python3"
  },
  "language_info": {
   "codemirror_mode": {
    "name": "ipython",
    "version": 3
   },
   "file_extension": ".py",
   "mimetype": "text/x-python",
   "name": "python",
   "nbconvert_exporter": "python",
   "pygments_lexer": "ipython3",
   "version": "3.11.9"
  }
 },
 "nbformat": 4,
 "nbformat_minor": 5
}
