{
 "cells": [
  {
   "cell_type": "code",
   "execution_count": 28,
   "id": "da1c59c9-0369-42f0-b9f6-6e95a9e91fba",
   "metadata": {},
   "outputs": [
    {
     "name": "stdout",
     "output_type": "stream",
     "text": [
      "CompletionMessage(content='你好！我是一个名为智谱清言的人工智能助手，基于智谱AI公司的ChatGLM模型开发。很高兴见到你，欢迎问我任何问题。', role='assistant', tool_calls=None)\n"
     ]
    }
   ],
   "source": [
    "from zhipuai import ZhipuAI\n",
    "client = ZhipuAI(api_key=\"bb65dfb1df68734c8d44d23db113a346.IdyEuDneYjcgDN4j\") # 请填写您自己的APIKey\n",
    "response = client.chat.completions.create(\n",
    "  model=\"glm-4\",  # 填写需要调用的模型名称\n",
    "    messages=[\n",
    "        {\"role\": \"user\", \"content\": \"你好！你叫什么名字\"},\n",
    "    ],\n",
    "    stream=False,\n",
    "    )\n",
    "# for chunk in response:\n",
    "#     print(chunk.choices[0].delta)\n",
    "print(response.choices[0].message)"
   ]
  },
  {
   "cell_type": "code",
   "execution_count": 17,
   "id": "a3d57010-2a45-41ad-88b5-500964747e61",
   "metadata": {},
   "outputs": [
    {
     "name": "stdout",
     "output_type": "stream",
     "text": [
      "CompletionMessage(content='\"精准智绘，创想由AI领航 —— 智谱AI，让每一步领先一步。\"', role='assistant', tool_calls=None)\n"
     ]
    }
   ],
   "source": [
    "response = client.chat.completions.create(\n",
    "model=\"glm-4\",  # 填写需要调用的模型名称\n",
    "messages=[\n",
    "    {\"role\": \"user\", \"content\": \"作为一名营销专家，请为我的产品创作一个吸引人的slogan\"},\n",
    "    {\"role\": \"assistant\", \"content\": \"当然，为了创作一个吸引人的slogan，请告诉我一些关于您产品的信息\"},\n",
    "    {\"role\": \"user\", \"content\": \"智谱AI开放平台\"},\n",
    "    {\"role\": \"assistant\", \"content\": \"智启未来，谱绘无限一智谱AI，让创新触手可及!\"},\n",
    "    {\"role\": \"user\", \"content\": \"创造一个更精准、吸引人的slogan\"}\n",
    "],\n",
    ")\n",
    "print(response.choices[0].message)"
   ]
  },
  {
   "cell_type": "code",
   "execution_count": 24,
   "id": "269325e0-0da6-4882-b7bf-4b08cf120c1b",
   "metadata": {},
   "outputs": [
    {
     "name": "stdout",
     "output_type": "stream",
     "text": [
      "CompletionMessage(content='土星是太阳系中的第六颗行星，按照离太阳的距离从近到远排列。以下是关于土星的一些基本信息：\\n\\n1. 大小和组成：\\n   - 土星是太阳系中第二大行星，仅次于木星。它的直径约为120,536公里，大约是地球直径的9.5倍。\\n   - 土星主要由氢和氦组成，类似于太阳的组成。它被认为是一个气体巨行星，没有明显的固态表面，而是由厚厚的气体和液态金属氢组成。\\n   - 土星的体积大于760个地球，质量约为地球质量的95倍。\\n\\n2. 环系统：\\n   - 土星以其壮观的环系统而闻名，这些环由冰颗粒、岩石碎片和尘埃组成，环绕着行星的赤道。土星环至少由8个主环组成，它们以不同的宽度、形状和亮度展现出来。\\n   - 土星环可以通过地球上的中等大小望远镜观察到，给人们提供了独特而美丽的视觉体验。\\n\\n3. 独特的天文现象：\\n   - 月掩土星：当月球在其轨道上移动时，有时会从地球观察者的视线中遮挡土星，形成月掩土星的现象。这种现象为天文爱好者提供了观察土星被月面边缘逐渐遮挡的机会。\\n   - 冲日现象：土星、地球和太阳处在一条直线上时，从地球上看起来，土星和太阳的黄经相差180度。这时土星在夜晚达到最亮，并可以在整个夜晚观察到。\\n   - 土星环的倾斜：土星环的平面与行星赤道面有明显的倾斜，这使得在不同时间观察到环的不同面，增加了土星外观的变化。\\n\\n4. 探测和研究：\\n   - 土星被多个太空探测器访问过，其中最著名的是卡西尼号探测器。卡西尼号于2004年进入土星轨道，并进行了长达13年的详细观察和研究，为人类提供了大量关于土星的珍贵数据。\\n\\n总之，土星作为太阳系中的第二大行星，以其宏伟的环系统和独特的天文现象吸引着天文学家和天文爱好者的关注。它的研究不仅揭示了关于土星本身的奥秘，还有助于我们更好地理解整个太阳系的历史和演化。', role='assistant', tool_calls=None)\n"
     ]
    }
   ],
   "source": [
    "response = client.chat.completions.create(\n",
    "    model=\"glm-4\",  # 填写需要调用的模型名称\n",
    "    messages=[\n",
    "        {\"role\": \"system\", \"content\": \"你是一个乐于解答各种问题的助手，你的任务是为用户提供专业、准确、有见地的建议。\"},\n",
    "        {\"role\": \"user\", \"content\": \"我对太阳系的行星非常感兴趣，特别是土星。请提供关于土星的基本信息，包括其大小、组成、环系统和任何独特的天文现象。\"},\n",
    "    ],\n",
    "    stream=False,\n",
    ")\n",
    "# for chunk in response:\n",
    "#     print(chunk.choices[0].delta)\n",
    "print(response.choices[0].message)"
   ]
  },
  {
   "cell_type": "code",
   "execution_count": 29,
   "id": "4699041f-c6b4-4d9e-8e3e-3de9c744c119",
   "metadata": {},
   "outputs": [
    {
     "name": "stdout",
     "output_type": "stream",
     "text": [
      "AsyncTaskStatus(id='12617198881894378801669023774781033', request_id='8801669023774781032', model='glm-4', task_status='PROCESSING')\n"
     ]
    }
   ],
   "source": [
    "response = client.chat.asyncCompletions.create(\n",
    "    model=\"glm-4\",  # 填写需要调用的模型名称\n",
    "    messages=[\n",
    "        {\n",
    "            \"role\": \"user\",\n",
    "            \"content\": \"请你作为童话故事大王，写一篇短篇童话故事，故事的主题是要永远保持一颗善良的心，要能够激发儿童的学习兴趣和想象力，同时也能够帮助儿童更好地理解和接受故事中所蕴含的道理和价值观。\"\n",
    "        }\n",
    "    ],\n",
    ")\n",
    "print(response)"
   ]
  },
  {
   "cell_type": "code",
   "execution_count": 30,
   "id": "a211368b-79a8-4cbf-aeaf-b372ce51ba18",
   "metadata": {},
   "outputs": [
    {
     "name": "stdout",
     "output_type": "stream",
     "text": [
      "AsyncTaskStatus(id='12617198881894378801669023774781033', request_id='8801669023774781032', model='glm-4', task_status='PROCESSING')\n"
     ]
    }
   ],
   "source": [
    "print(response)"
   ]
  },
  {
   "cell_type": "code",
   "execution_count": 31,
   "id": "fac99719-ae8b-42bb-b854-7e822ae39e61",
   "metadata": {},
   "outputs": [
    {
     "name": "stdout",
     "output_type": "stream",
     "text": [
      "AsyncTaskStatus(id='12617198881894378801669023774781033', request_id='8801669023774781032', model=None, task_status='PROCESSING')\n",
      "AsyncTaskStatus(id='12617198881894378801669023774781033', request_id='8801669023774781032', model=None, task_status='PROCESSING')\n",
      "AsyncTaskStatus(id='12617198881894378801669023774781033', request_id='8801669023774781032', model=None, task_status='PROCESSING')\n",
      "AsyncTaskStatus(id='12617198881894378801669023774781033', request_id='8801669023774781032', model=None, task_status='PROCESSING')\n",
      "AsyncTaskStatus(id='12617198881894378801669023774781033', request_id='8801669023774781032', model=None, task_status='PROCESSING')\n",
      "AsyncTaskStatus(id='12617198881894378801669023774781033', request_id='8801669023774781032', model=None, task_status='PROCESSING')\n",
      "AsyncTaskStatus(id='12617198881894378801669023774781033', request_id='8801669023774781032', model=None, task_status='PROCESSING')\n",
      "AsyncTaskStatus(id='12617198881894378801669023774781033', request_id='8801669023774781032', model=None, task_status='PROCESSING')\n",
      "AsyncCompletion(id='12617198881894378801669023774781033', request_id='8801669023774781032', model='GLM-4', task_status='SUCCESS', choices=[CompletionChoice(index=0, finish_reason='stop', message=CompletionMessage(content='从前，有个小村庄，里面住着一群和谐的动物们。其中有个叫小松鼠的小家伙，他拥有一颗善良的心，总是乐意帮助别人。\\n\\n有一天，小松鼠在森林里捡到了一本神奇的书。这本书里记载了许多有趣的知识和故事。小松鼠如获至宝，他把这本书带回家，用心阅读。渐渐地，小松鼠懂得了越来越多的道理，他更加明白了要永远保持一颗善良的心。\\n\\n有一天，小松鼠在森林里遇到了一只哭泣的小兔子。小兔子告诉小松鼠，它的家被一场大雨冲毁了，它不知道该怎么办。小松鼠立刻想到了神奇书里的知识，他鼓励小兔子说：“别担心，我来帮你！我们知道，团结就是力量，只要我们一起努力，一定能帮你重建家园。”\\n\\n于是，小松鼠召集了村里的动物们，大家一起出谋划策，动手帮小兔子重建家园。在大家的共同努力下，小兔子的家很快就建好了。小兔子感激不已，流着眼泪说：“谢谢你们，我以后也要像小松鼠一样，永远保持一颗善良的心，帮助需要帮助的人。”\\n\\n过了一段时间，森林里举行了一场知识竞赛。小松鼠因为阅读了神奇的书，掌握了许多知识，他积极参与比赛，最后获得了第一名。其他动物们也为他感到骄傲。小松鼠告诉大家：“这些知识都是书本给我的，我们要热爱学习，不断地充实自己，这样才能更好地帮助别人。”\\n\\n故事传遍了整个森林，每个动物都受到了启发，他们纷纷向小松鼠学习，热爱阅读，追求知识。在他们的努力下，整个森林充满了和谐与温馨。\\n\\n这个故事告诉我们，要永远保持一颗善良的心，关爱他人。同时，我们要热爱学习，不断地充实自己，用知识武装头脑。这样，我们才能成为有益于社会的人，传递正能量，让世界变得更加美好。\\n\\n小朋友们，你们明白这个道理了吗？让我们一起努力，成为善良、有爱心、热爱学习的好孩子吧！', role='assistant', tool_calls=None))], usage=CompletionUsage(prompt_tokens=50, completion_tokens=404, total_tokens=454), created=1719907227)\n"
     ]
    }
   ],
   "source": [
    "import time\n",
    "task_id = response.id\n",
    "task_status = ''\n",
    "get_cnt = 0\n",
    "\n",
    "while task_status != 'SUCCESS' and task_status != 'FAILED' and get_cnt <= 30:\n",
    "    result_response = client.chat.asyncCompletions.retrieve_completion_result(id=task_id)\n",
    "    print(result_response)\n",
    "    task_status=result_response.task_status\n",
    "\n",
    "    time.sleep(2)\n",
    "    get_cnt += 1"
   ]
  },
  {
   "cell_type": "code",
   "execution_count": null,
   "id": "fe1c5eb5-9dfe-40c7-8236-bbfeca9fa860",
   "metadata": {},
   "outputs": [],
   "source": []
  }
 ],
 "metadata": {
  "kernelspec": {
   "display_name": "Python 3 (ipykernel)",
   "language": "python",
   "name": "python3"
  },
  "language_info": {
   "codemirror_mode": {
    "name": "ipython",
    "version": 3
   },
   "file_extension": ".py",
   "mimetype": "text/x-python",
   "name": "python",
   "nbconvert_exporter": "python",
   "pygments_lexer": "ipython3",
   "version": "3.11.9"
  }
 },
 "nbformat": 4,
 "nbformat_minor": 5
}
