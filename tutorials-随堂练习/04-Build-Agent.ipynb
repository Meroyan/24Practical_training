{
 "cells": [
  {
   "cell_type": "markdown",
   "id": "8b8f3128-e473-4a91-bb9f-f44c79d9fe07",
   "metadata": {},
   "source": [
    "# Build an Agent - 构建代理\n",
    "\n",
    "语言模型本身无法采取行动 - 它们只是输出文本。LangChain 的一个重要用例是创建代理。  \n",
    "代理是使用 LLM 作为推理引擎来确定要采取哪些操作以及要传递给它们的输入的系统。执行操作后，结果可以反馈到 LLM 中，以确定是否需要更多操作，或者是否可以完成。\n",
    "\n",
    "在本教程中，我们将构建一个可以与搜索引擎交互的代理。您将能够向该代理提问，观察它调用搜索工具，并与其进行对话。 \n",
    "\n",
    "## 概念\n",
    "在本教程中，您将学习如何：\n",
    "\n",
    " - 使用语言模型，特别是其工具调用能力\n",
    " - 使用搜索工具从互联网上查找信息\n",
    " - 编写 LangGraph 代理，使用 LLM 确定操作然后执行它们\n"
   ]
  },
  {
   "cell_type": "code",
   "execution_count": 9,
   "id": "d94041cb-d9f8-4ed4-af16-39a2ef8798ca",
   "metadata": {},
   "outputs": [],
   "source": [
    "# 获取你的智谱 API Key\n",
    "# 在当前文件下创建一个.env文件，将api-key复制进去，如ZHIPUAI_API_KEY = \"api-key\"\n",
    "\n",
    "from dotenv import load_dotenv,find_dotenv\n",
    "import os \n",
    "_ = load_dotenv(find_dotenv())"
   ]
  },
  {
   "cell_type": "markdown",
   "id": "131a74fe-2c43-4f60-b778-80a752c90c57",
   "metadata": {},
   "source": [
    "## Define tools - 定义工具\n",
    "\n",
    "我们首先需要创建我们想要使用的工具。我们选择的主要工具是 Tavily - 一个搜索引擎。我们在 LangChain 中有一个内置工具，可以轻松使用 Tavily 搜索引擎作为工具。"
   ]
  },
  {
   "cell_type": "code",
   "execution_count": 10,
   "id": "44241527-f414-4927-9c90-1f93a20f12db",
   "metadata": {},
   "outputs": [
    {
     "name": "stdout",
     "output_type": "stream",
     "text": [
      "[{'url': 'http://www.weather.com.cn/weather/101030100.shtml', 'content': '涂擦SPF大于15、PA+防晒护肤品。\\n天气资讯\\n周边地区\\n|\\n周边景点\\n2024-02-25 18:00更新\\n/\\n/\\n/\\n/\\n/\\n/\\n周边地区\\n|\\n周边景点\\n2024-02-25 18:00更新\\n/\\n/\\n/\\n/\\n/\\n/\\n/\\n/\\n/\\n/\\n/\\n/\\n高清图集\\n重大天气事件\\n2月25日\\n湖南湖北等地冻雨今天减弱 南方多地冷如三九\\n今天（2月25日），湖南、湖北等地的冻雨天气有所减弱，范围缩小，但长江沿线及其以南地区多地仍有降水，且相态复杂，公众需关注预警预报信息。\\n2月24日\\n南方阴雨天气延续至3月初 周末江南等地气温明显偏低\\n本周末，北方降水明显减少，南方仍有较大范围阴雨雪天气，湖南、贵州等地仍需防范冻雨。预计，南方大部阴雨频繁的天气将延续至3月初。\\n2月23日\\n北方降雪明日基本停歇 南方多地月底前气温持续偏低\\n今天（2月23日），我国中东部等地大范围雨雪持续，降水强度继续减弱。明后天，北方大部降水停歇，南方仍有雨雪天气。\\n2月22日\\n中东部降雪区域向南收缩 南方大部气温持续低迷\\n今明天（2月22日至23日），我国雨雪有所减弱，雨雪分界线继续南压。后天，北方大部降雪基本停歇，而南方阴雨雪天气还将持续到本月底。\\n2月21日\\n中东部雨雪冰冻天气持续 南方多地湿冷感十足\\n今天（2月21日），中东部雨雪冰冻天气持续，同时气温还将继续下降，江淮、江汉、江南等地在雨雪的“打压”下，体感尤为湿冷。\\n2月20日\\n中东部雨雪进入最强时段 南方多地气温陆续跳水\\n受寒潮影响，今明两天（2月20日至21日），中东部雨雪进入最强时段。同时，未来四天，中东部气温继续下降，多地将上演冷暖大逆转。\\n2月19日\\n中东部将遭遇剧烈降温 明起雨雪天气进入鼎盛阶段\\n今天（2月19日），寒潮主要影响我国北方地区，明天起，中东部雨雪天气将进入鼎盛阶段。除了雨雪，今起四天，\\u200b我国大部地区将迎来剧烈降温。\\n2月18日\\n寒潮发威北方多地开启猛烈降温模式 大范围雨雪天气逐渐铺展\\n今起（2月18日）至22日，龙年首场寒潮继续东移南下，北方多地开启降温模式，新疆、青海、甘肃等地部分地区降温猛烈。\\n2月17日\\n寒潮来袭我国大部气温起伏剧烈 新疆黑龙江等地局地有强降雪\\n今天起（2月17日），龙年首场寒潮天气过程将自西向东影响我国，大部地区气温将坐过山车，气温起伏剧烈，并伴有大范围雨雪天气。\\n2月16日\\n龙年首场寒潮过程蓄势待发 18日起我国将迎大范围雨雪\\n 台风路径\\n空间天气\\n图片\\n专题\\n环境\\n旅游\\n碳中和\\n气象科普\\n一带一路\\n产创平台\\n热门城市\\n热门景点\\n选择省市\\n<<返回\\n全国\\n周边城市\\n周边景点\\n本地乡镇\\n热门城市\\n选择洲际\\n25日（今天）\\n晴\\n0℃\\n<3级\\n26日（明天）\\n多云\\n5℃/-1℃\\n3-4级转<3级\\n27日（后天）\\n多云转阴\\n7℃/-1℃\\n<3级\\n28日（周三）\\n阴转多云\\n7℃/-2℃\\n<3级\\n29日（周四）\\n多云转晴\\n6℃/-4℃\\n<3级\\n1日（周五）\\n晴\\n7℃/-2℃\\n<3级\\n2日（周六）\\n晴\\n8℃/-1℃\\n<3级\\n蓝天预报综合天气现象、能见度、空气质量等因子，预测未来一周的天空状况。\\n天冷易感冒，注意防范。\\n天气寒冷，推荐您进行室内运动。\\n无需担心过敏，可放心外出，享受生活。\\n建议着厚羽绒服等隆冬服装。\\n天气较好，适合擦洗汽车。\\n 龙年首场寒潮已蓄势待发，17日开始，它将率先在西北制造猛烈降温，随后逐渐东移南下，席卷我国大部，带来降温、雨雪及大风，中东部多地将经历冷暖巨变。\\n2月15日\\n中东部多地冷暖起伏大 17日起寒潮自西向东影响我国\\n昨天中东部降水增多、增强，今天降水范围则快速缩减，气温方面，今天冷空气继续南下，江南等地将迎“打折式”降温。\\n2月14日\\n中东部气温冲高回落 南方阴雨发展增多\\n昨天，中东部升温继续，暖意加码，随着一股冷空气东移南下，气温将冲高回落。降水方面，新疆新一轮降雪过程再度来袭，南方阴雨天气发展增多。\\n2月13日\\n南北方气温再冲高 较强冷空气将至\\n今明天我国升温浪潮仍将继续，并陆续迎来此轮过程最高点，多地最高气温有望今年首次冲上20℃，暖意堪比常年4月。\\n联播天气预报\\n更多>>高清图集\\n天气视频\\n降水一轮又一轮 洗车先等等\\n天气早安：湖北 湖南 贵州等地持续防范冻雨\\n>> 生活旅游\\n景点推荐\\n气象产品\\n气象服务\\n天气预报电话查询\\n拨打12121或96121进行天气预报查询\\n手机查询\\n随时随地通过手机登录中国天气WAP版查看各地天气资讯\\n网站服务\\n关于我们联系我们帮助人员招聘\\n客服中心版权声明律师网站地图\\n营销中心\\n商务合作广告服务媒资合作\\n相关链接\\n中国气象局中国气象服务协会 中国天气频道\\n客服邮箱：service@weather.com.cn意见反馈：010-68409444广告服务：010-58991840媒资合作：010-58993745科普合作：010-58991541京ICP证010385-2号\\u3000京公网安备11041400134号\\n商务合作：010-58991806010-58991938 涂擦SPF大于15、PA+防晒护肤品。\\n天冷易感冒，注意防范。\\n气温较低，在户外运动请注意增减衣物。\\n无需担心过敏，可放心外出，享受生活。\\n建议着棉衣加羊毛衫等冬季服装。\\n天气较好，适合擦洗汽车。\\n辐射弱，涂擦SPF8-12防晒护肤品。\\n天冷易感冒，注意防范。\\n气温较低，在户外运动请注意增减衣物。\\n无需担心过敏，可放心外出，享受生活。\\n建议着棉衣加羊毛衫等冬季服装。\\n天气较好，适合擦洗汽车。\\n 涂擦SPF大于15、PA+防晒护肤品。\\n天冷易感冒，注意防范。\\n气温较低，在户外运动请注意增减衣物。\\n无需担心过敏，可放心外出，享受生活。\\n建议着棉衣加羊毛衫等冬季服装。\\n天气较好，适合擦洗汽车。\\n'}, {'url': 'http://www.weather.com.cn/weathern/101030100.shtml', 'content': '天津天气预报，及时准确发布中央气象台天气信息，便捷查询北京今日天气，天津周末天气，天津一周天气预报，天津15日天气预报，天津40日天气预报，天津天气预报还提供天津各区县的生活指数、健康指数、交通指数、旅游指数，及时发布天津气象预警信号、各类气象资讯。'}]\n"
     ]
    }
   ],
   "source": [
    "from langchain_community.tools.tavily_search import TavilySearchResults\n",
    "\n",
    "search = TavilySearchResults(max_results=2,tavily_api_key=os.environ[\"TAVILY_API_KEY\"])\n",
    "search_results = search.invoke(\"天津的天气怎么样?\")\n",
    "print(search_results)\n",
    "# 如果我们愿意，我们可以创建其他工具。\n",
    "# 一旦我们拥有了所有想要的工具，我们就可以将它们放入一个列表中。\n",
    "tools = [search]"
   ]
  },
  {
   "cell_type": "markdown",
   "id": "dab7dd28-e4fb-4f9a-98e8-df9fa0f83275",
   "metadata": {},
   "source": [
    "# Using Language Models 使用语言模型\n",
    "\n",
    "接下来，让我们学习如何使用语言模型来调用工具。LangChain 支持许多不同的语言模型,我们用的清华的智谱模型。"
   ]
  },
  {
   "cell_type": "code",
   "execution_count": 15,
   "id": "42b7c56f-8c61-4cd5-b0f5-0507ef3a777f",
   "metadata": {},
   "outputs": [],
   "source": [
    "from langchain_openai import ChatOpenAI\n",
    "\n",
    "model = ChatOpenAI(\n",
    "    base_url=\"https://open.bigmodel.cn/api/paas/v4\",\n",
    "    api_key=os.environ[\"ZHIPUAI_API_KEY\"],\n",
    "    model=\"glm-4\",\n",
    ")"
   ]
  },
  {
   "cell_type": "markdown",
   "id": "1e45ed5d-621c-4484-8458-83f0c92ffa78",
   "metadata": {},
   "source": [
    "您可以通过传入消息列表来调用语言模型。默认情况下，响应是内容字符串。"
   ]
  },
  {
   "cell_type": "code",
   "execution_count": 16,
   "id": "4f8b001e-3211-4e96-8d9e-b8dc157be14d",
   "metadata": {},
   "outputs": [
    {
     "data": {
      "text/plain": [
       "'你好！有什么我可以帮助你的吗？'"
      ]
     },
     "execution_count": 16,
     "metadata": {},
     "output_type": "execute_result"
    }
   ],
   "source": [
    "from langchain_core.messages import HumanMessage\n",
    "\n",
    "resp = model.invoke([HumanMessage(content=\"你好。\")])\n",
    "resp.content"
   ]
  },
  {
   "cell_type": "markdown",
   "id": "22feae07-1928-449a-890e-efced405c9d8",
   "metadata": {},
   "source": [
    "现在，我们可以看看如何让这个模型进行工具调用。为了实现这一点，我们使用 .bind_tools 为语言模型提供这些工具的知识"
   ]
  },
  {
   "cell_type": "code",
   "execution_count": 17,
   "id": "5776de5e-ed0e-4909-beb3-0fe51f8877f8",
   "metadata": {},
   "outputs": [],
   "source": [
    "model_with_tools = model.bind_tools(tools)"
   ]
  },
  {
   "cell_type": "markdown",
   "id": "123f6c4b-9cb9-4461-b640-d01a4ea458b6",
   "metadata": {},
   "source": [
    "现在我们可以调用该模型了。我们先用普通消息调用它，看看它如何响应。我们可以查看 content 字段以及 tool_calls 字段。"
   ]
  },
  {
   "cell_type": "code",
   "execution_count": 18,
   "id": "19339670-9433-4884-884e-7fc49f56e618",
   "metadata": {},
   "outputs": [
    {
     "name": "stdout",
     "output_type": "stream",
     "text": [
      "ContentString: 你好，请问有什么可以帮助你的吗？\n",
      "ToolCalls: []\n"
     ]
    }
   ],
   "source": [
    "resp = model_with_tools.invoke([HumanMessage(content=\"你好。\")])\n",
    "\n",
    "print(f\"ContentString: {resp.content}\")\n",
    "print(f\"ToolCalls: {resp.tool_calls}\")"
   ]
  },
  {
   "cell_type": "markdown",
   "id": "f5666a34-f1fd-454a-b6e0-f109e98b87dc",
   "metadata": {},
   "source": [
    "现在，让我们尝试使用一些需要调用工具的输入来调用它。"
   ]
  },
  {
   "cell_type": "code",
   "execution_count": 30,
   "id": "bfe4b3ac-c26f-4b8e-9a06-13a903929b87",
   "metadata": {},
   "outputs": [
    {
     "name": "stdout",
     "output_type": "stream",
     "text": [
      "ContentString: \n",
      "ToolCalls: [{'name': 'tavily_search_results_json', 'args': {'query': '天津明天限号是多少'}, 'id': 'call_8741766118450732492'}]\n"
     ]
    }
   ],
   "source": [
    "resp = model_with_tools.invoke([HumanMessage(content=\"天津明天的限号是多少?\")])\n",
    "\n",
    "print(f\"ContentString: {resp.content}\")\n",
    "print(f\"ToolCalls: {resp.tool_calls}\")"
   ]
  },
  {
   "cell_type": "markdown",
   "id": "24ae4821-6fb3-43cc-8408-2e758af0b612",
   "metadata": {},
   "source": [
    "我们可以看到现在没有文本内容，但有一个工具调用！它希望我们调用 Tavily Search 工具。\n",
    "\n",
    "这还没有调用该工具 - 它只是告诉我们这样做。为了真正调用它，我们需要创建我们的代理。"
   ]
  },
  {
   "cell_type": "markdown",
   "id": "5009d3d4-dcbe-498d-9f6d-4296e6cbb656",
   "metadata": {},
   "source": [
    "## Create the agent - 创建代理\n",
    "\n",
    "现在我们已经定义了工具和 LLM，我们可以创建代理了。我们将使用 LangGraph 来构建代理。  \n",
    "目前，我们使用高级接口来构建代理，但 LangGraph 的优点在于，如果您想要修改代理逻辑，这个高级接口由低级、高度可控的 API 支持。\n",
    "\n",
    "现在，我们可以使用 LLM 和工具初始化代理。\n",
    "\n",
    "请注意，我们传入的是模型，而不是 model_with_tools。这是因为 create_react_agent 会在后台为我们调用 .bind_tools。"
   ]
  },
  {
   "cell_type": "markdown",
   "id": "06aad941-252a-43f5-a54f-212699fcfaa9",
   "metadata": {},
   "source": [
    "### 安装 LangGraph¶"
   ]
  },
  {
   "cell_type": "code",
   "execution_count": 32,
   "id": "9c9cef92-7d9e-421f-a1cf-f4985c73d8ff",
   "metadata": {},
   "outputs": [],
   "source": [
    "# pip install -U langgraph"
   ]
  },
  {
   "cell_type": "code",
   "execution_count": 33,
   "id": "b93841cb-54a7-4de9-bfc0-b6bf8bf3bb5b",
   "metadata": {},
   "outputs": [],
   "source": [
    "from langgraph.prebuilt import create_react_agent\n",
    "\n",
    "agent_executor = create_react_agent(model,tools)"
   ]
  },
  {
   "cell_type": "markdown",
   "id": "95a8b307-28f8-468e-a846-d935ba357c97",
   "metadata": {},
   "source": [
    "## Run the agent - 运行代理\n",
    "\n",
    "我们现在可以在几个查询上运行代理！请注意，目前这些都是无状态查询（它不会记住以前的交互）。  \n",
    "请注意，代理将在交互结束时返回最终状态（其中包括任何输入，我们稍后将了解如何仅获取输出）。\n",
    "\n",
    "首先，让我们看看当不需要调用工具时它如何响应："
   ]
  },
  {
   "cell_type": "code",
   "execution_count": 34,
   "id": "21d95f40-d031-40e2-8d32-71bbf4cbc076",
   "metadata": {},
   "outputs": [
    {
     "data": {
      "text/plain": [
       "[HumanMessage(content='你好。', id='ea11dcb7-bbd9-49b5-91c6-e911c9b3f867'),\n",
       " AIMessage(content='你好，请问有什么可以帮助您的吗？', response_metadata={'token_usage': {'completion_tokens': 10, 'prompt_tokens': 139, 'total_tokens': 149}, 'model_name': 'glm-4', 'system_fingerprint': None, 'finish_reason': 'stop', 'logprobs': None}, id='run-bd7e5736-411c-44ad-8a41-4f4017f59291-0')]"
      ]
     },
     "execution_count": 34,
     "metadata": {},
     "output_type": "execute_result"
    }
   ],
   "source": [
    "response = agent_executor.invoke({\"messages\": [HumanMessage(content=\"你好。\")]})\n",
    "\n",
    "response[\"messages\"]"
   ]
  },
  {
   "cell_type": "markdown",
   "id": "3e804fdb-2260-4bfc-b2b2-3b8cbffcace2",
   "metadata": {},
   "source": [
    "现在让我们在一个应该调用该工具的示例上尝试一下"
   ]
  },
  {
   "cell_type": "code",
   "execution_count": 36,
   "id": "981fb052-a91d-4bd6-be6a-7938f4d68916",
   "metadata": {},
   "outputs": [
    {
     "data": {
      "text/plain": [
       "[HumanMessage(content='天津明天6月17日的限号是多少?', id='74a1d228-f7a8-4da4-b9a8-3a99bf09751f'),\n",
       " AIMessage(content='', additional_kwargs={'tool_calls': [{'id': 'call_8741766255889691704', 'function': {'arguments': '{\"query\":\"天津明天6月17日的限号是多少\"}', 'name': 'tavily_search_results_json'}, 'type': 'function', 'index': 0}]}, response_metadata={'token_usage': {'completion_tokens': 26, 'prompt_tokens': 147, 'total_tokens': 173}, 'model_name': 'glm-4', 'system_fingerprint': None, 'finish_reason': 'tool_calls', 'logprobs': None}, id='run-87044df6-f191-482d-bf2e-0b5c31e69ae4-0', tool_calls=[{'name': 'tavily_search_results_json', 'args': {'query': '天津明天6月17日的限号是多少'}, 'id': 'call_8741766255889691704'}]),\n",
       " ToolMessage(content='[{\"url\": \"http://tj.bendibao.com/traffic/2024325/144128.shtm\", \"content\": \"2024\\\\u5929\\\\u6d25\\\\u6700\\\\u65b0\\\\u9650\\\\u884c \\\\u9650\\\\u53f7\\\\u5b89\\\\u6392\\\\u5df2\\\\u516c\\\\u5e03\\\\uff082024.4.1-2025.3.30\\\\uff09 \\\\u81ea2024\\\\u5e744\\\\u67081\\\\u65e5\\\\u81f32025\\\\u5e743\\\\u670830\\\\u65e5 \\\\uff0c\\\\u5de5\\\\u4f5c\\\\u65e5\\\\uff08\\\\u56e0\\\\u6cd5\\\\u5b9a\\\\u8282\\\\u5047\\\\u65e5\\\\u653e\\\\u5047\\\\u8c03\\\\u4f11\\\\u800c\\\\u8c03\\\\u6574\\\\u4e3a\\\\u4e0a\\\\u73ed\\\\u7684\\\\u661f\\\\u671f\\\\u516d\\\\u3001\\\\u661f\\\\u671f\\\\u65e5\\\\u9664\\\\u5916\\\\uff09\\\\u6bcf\\\\u65e57\\\\u65f6\\\\u81f319\\\\u65f6\\\\uff0c\\\\u672c\\\\u5e02\\\\u53ca\\\\u5916\\\\u57e0\\\\u53f7\\\\u724c\\\\u673a\\\\u52a8\\\\u8f66\\\\u5728\\\\u5916\\\\u73af\\\\u7ebf\\\\uff08\\\\u4e0d\\\\u542b\\\\uff09\\\\u4ee5\\\\u5185\\\\u9053\\\\u8def\\\\uff0c\\\\u7ee7\\\\u7eed\\\\u5b9e\\\\u65bd\\\\u6309\\\\u8f66\\\\u724c\\\\u5c3e\\\\u53f7\\\\u533a\\\\u57df\\\\u9650\\\\u884c\\\\u4ea4\\\\u901a\\\\u7ba1\\\\u7406\\\\u63aa\\\\u65bd\\\\u3002\"}, {\"url\": \"https://www.163.com/dy/article/J4POG1EG0545BQ6G.html\", \"content\": \"6\\\\u670817\\\\u65e5\\\\u8d77. \\\\u4e0b\\\\u521715\\\\u6761\\\\u8def\\\\u6bb5\\\\u8bbe\\\\u7f6e\\\\u4e3a. \\\\u673a\\\\u52a8\\\\u8f66\\\\u8fdd\\\\u6cd5\\\\u505c\\\\u8f66\\\\u4e25\\\\u683c\\\\u7ba1\\\\u7406\\\\u8def\\\\u6bb5. \\\\u8fd9\\\\u4e9b\\\\u5730\\\\u65b9\\\\u53ef\\\\u8981\\\\u6ce8\\\\u610f\\\\u4e86. \\\\u8d76\\\\u7d27\\\\u6765\\\\u770b\\\\u6709\\\\u54ea\\\\u4e9b\\\\u5730\\\\u65b9\\\\u5427!. \\\\u5929\\\\u6d2515\\\\u4e2a\\\\u8def\\\\u6bb5\\\\u4e25\\\\u7ba1\\\\u8fdd\\\\u505c. 6\\\\u670812\\\\u65e5\\\\uff0c\\\\u5929\\\\u6d25\\\\u5e02\\\\u516c\\\\u5b89\\\\u4ea4\\\\u901a\\\\u7ba1\\\\u7406\\\\u5c40\\\\u53d1\\\\u5e03\\\\u300a\\\\u5173\\\\u4e8e\\\\u8bbe\\\\u7f6e\\\\u673a\\\\u52a8\\\\u8f66\\\\u8fdd\\\\u6cd5\\\\u505c\\\\u8f66\\\\u4e25\\\\u683c\\\\u7ba1\\\\u7406\\\\u8def\\\\u6bb5\\\\u7684\\\\u516c\\\\u544a\\\\u300b\\\\u2014\\\\u2014. \\\\u56fe\\\\u6e90\\\\uff1a\\\\u5929\\\\u6d25\\\\u5e02\\\\u516c\\\\u5b89\\\\u4ea4\\\\u901a\\\\u7ba1\\\\u7406\\\\u5c40. \\\\u4e3a ...\"}]', name='tavily_search_results_json', id='2b38988b-2210-4672-9276-8ca4234daece', tool_call_id='call_8741766255889691704'),\n",
       " AIMessage(content='天津明天（6月17日）的限号信息目前没有在搜索引擎中找到。但是，我注意到天津市政府已经发布了关于设置机动车违法停车严格管理路段的公告。从6月12日起，天津市公安交通管理局对15个路段设置了严格的机动车违法停车管理。具体路段信息请参考相关新闻报道。', response_metadata={'token_usage': {'completion_tokens': 69, 'prompt_tokens': 1140, 'total_tokens': 1209}, 'model_name': 'glm-4', 'system_fingerprint': None, 'finish_reason': 'stop', 'logprobs': None}, id='run-05295a40-6b4f-4db8-9dec-71264e0fb531-0')]"
      ]
     },
     "execution_count": 36,
     "metadata": {},
     "output_type": "execute_result"
    }
   ],
   "source": [
    "response = agent_executor.invoke(\n",
    "    {\"messages\": [HumanMessage(content=\"天津明天6月17日的限号是多少?\")]}\n",
    ")\n",
    "response[\"messages\"]"
   ]
  },
  {
   "cell_type": "markdown",
   "id": "dd4d841f-1b40-45a3-a5f6-d7af61329ad8",
   "metadata": {},
   "source": [
    "## Streaming Messages - 流式消息\n",
    "我们已经了解了如何使用 .invoke 调用代理来获取最终响应。如果代理正在执行多个步骤，则可能需要一段时间。  \n",
    "为了显示中间进度，我们可以在消息发生时流式返回消息。"
   ]
  },
  {
   "cell_type": "code",
   "execution_count": 39,
   "id": "1dd397f4-add0-44c6-b23f-545e90209af1",
   "metadata": {},
   "outputs": [
    {
     "name": "stdout",
     "output_type": "stream",
     "text": [
      "{'agent': {'messages': [AIMessage(content='', additional_kwargs={'tool_calls': [{'id': 'call_8741760723971565035', 'function': {'arguments': '{\"query\":\"2024年6月17日天津限号是多少\"}', 'name': 'tavily_search_results_json'}, 'type': 'function', 'index': 0}]}, response_metadata={'token_usage': {'completion_tokens': 28, 'prompt_tokens': 151, 'total_tokens': 179}, 'model_name': 'glm-4', 'system_fingerprint': None, 'finish_reason': 'tool_calls', 'logprobs': None}, id='run-9c342ec8-ddf2-4014-9557-bbcd084967e1-0', tool_calls=[{'name': 'tavily_search_results_json', 'args': {'query': '2024年6月17日天津限号是多少'}, 'id': 'call_8741760723971565035'}])]}}\n",
      "----\n",
      "{'tools': {'messages': [ToolMessage(content='[{\"url\": \"http://tj.bendibao.com/traffic/2024325/144129.shtm\", \"content\": \"\\\\u5de5\\\\u4f5c\\\\u65e5\\\\u6bcf\\\\u65e57\\\\u65f6\\\\u81f319\\\\u65f6\\\\uff0c\\\\u5929\\\\u6d25\\\\u5b9e\\\\u65bd\\\\u6309\\\\u8f66\\\\u724c\\\\u5c3e\\\\u53f7\\\\u533a\\\\u57df\\\\u9650\\\\u884c\\\\u4ea4\\\\u901a\\\\u7ba1\\\\u7406\\\\u63aa\\\\u65bd\\\\u3002\\\\u81ea2024\\\\u5e744\\\\u67081\\\\u65e5\\\\u81f32024\\\\u5e746\\\\u670830\\\\u65e5\\\\uff0c\\\\u661f\\\\u671f\\\\u4e00\\\\u81f3\\\\u661f\\\\u671f\\\\u4e94\\\\u9650\\\\u884c\\\\u673a\\\\u52a8\\\\u8f66\\\\u53f7\\\\u724c\\\\u5c3e\\\\u53f7\\\\uff08\\\\u673a\\\\u52a8\\\\u8f66\\\\u53f7\\\\u724c\\\\u5c3e\\\\u53f7\\\\u4e3a\\\\u82f1\\\\u6587\\\\u5b57\\\\u6bcd\\\\u7684\\\\u63090\\\\u53f7\\\\u7ba1\\\\u7406\\\\uff0c\\\\u4e0b\\\\u540c\\\\uff09\\\\u5206\\\\u522b\\\\u4e3a5\\\\u548c0\\\\u30011\\\\u548c6\\\\u30012\\\\u548c. \\\\u5929\\\\u6d25\\\\u673a\\\\u52a8\\\\u8f66\\\\u9650\\\\u884c\\\\u6700\\\\u65b0\\\\u6d88\\\\u606f\\\\uff08\\\\u6301\\\\u7eed\\\\u66f4\\\\u65b0\\\\uff09\"}, {\"url\": \"http://tj.bendibao.com/news/2016425/76706.shtm\", \"content\": \"\\\\u81ea2024\\\\u5e744\\\\u67081\\\\u65e5\\\\u81f32024\\\\u5e744\\\\u670830\\\\u65e5\\\\uff0c \\\\u661f\\\\u671f\\\\u4e00\\\\u81f3\\\\u661f\\\\u671f\\\\u4e94\\\\u5929\\\\u6d25\\\\u9650\\\\u884c\\\\u673a\\\\u52a8\\\\u8f66\\\\u53f7\\\\u724c\\\\u5c3e\\\\u53f7\\\\uff08\\\\u673a\\\\u52a8\\\\u8f66\\\\u53f7\\\\u724c\\\\u5c3e\\\\u53f7\\\\u4e3a\\\\u82f1\\\\u6587\\\\u5b57\\\\u6bcd\\\\u7684\\\\u63090\\\\u53f7\\\\u7ba1\\\\u7406\\\\uff09\\\\u5206\\\\u522b\\\\u4e3a5\\\\u548c0\\\\u30011\\\\u548c6\\\\u30012\\\\u548c7\\\\u30013\\\\u548c8\\\\u30014\\\\u548c9. \\\\u5c3e\\\\u53f7\\\\u9650\\\\u884c\\\\u89c4\\\\u5b9a\\\\uff1a \\\\u5de5\\\\u4f5c\\\\u65e5 (\\\\u56e0\\\\u6cd5\\\\u5b9a\\\\u8282\\\\u5047\\\\u65e5\\\\u653e\\\\u5047\\\\u8c03\\\\u4f11\\\\u800c\\\\u8c03\\\\u6574\\\\u4e3a\\\\u4e0a\\\\u73ed\\\\u7684\\\\u661f\\\\u671f\\\\u516d\\\\u3001\\\\u661f\\\\u671f\\\\u65e5\\\\u9664\\\\u5916)\\\\u6bcf\\\\u65e57\\\\u65f6\\\\u81f319\\\\u65f6\\\\uff0c\\\\u5929\\\\u6d25\\\\u5e02\\\\u53ca ...\"}]', name='tavily_search_results_json', tool_call_id='call_8741760723971565035')]}}\n",
      "----\n",
      "{'agent': {'messages': [AIMessage(content='根据2024年6月17日的信息，天津限号是5和0。天津自2024年4月1日起至2024年6月30日，星期一至星期五限行机动车车牌尾号分别为5和0、1和6、2和7、3和8、4和9。周末不限行。此外，限行时间为工作日（因法定节假日放假调休而调整为上班的星期六、星期日除外）每7时至19时。', response_metadata={'token_usage': {'completion_tokens': 105, 'prompt_tokens': 1108, 'total_tokens': 1213}, 'model_name': 'glm-4', 'system_fingerprint': None, 'finish_reason': 'stop', 'logprobs': None}, id='run-7b4782b7-ce2c-430f-8b85-2da8c6222644-0')]}}\n",
      "----\n"
     ]
    }
   ],
   "source": [
    "for chunk in agent_executor.stream(\n",
    "    {\"messages\": [HumanMessage(content=\"2024年6月17日，天津的限号是多少?\")]}\n",
    "):\n",
    "    print(chunk)\n",
    "    print(\"----\")"
   ]
  },
  {
   "cell_type": "markdown",
   "id": "55d050b2-eead-45a7-b720-c843143301ff",
   "metadata": {},
   "source": [
    "## Streaming tokens - 流式传输令牌\n",
    "除了流式传输消息之外，流式传输令牌也很有用。我们可以使用 .astream_events 方法来实现这一点。"
   ]
  },
  {
   "cell_type": "code",
   "execution_count": 44,
   "id": "8c2dde02-1af6-4a0f-a865-aa5be6b5c420",
   "metadata": {},
   "outputs": [
    {
     "name": "stdout",
     "output_type": "stream",
     "text": [
      "--\n",
      "Starting tool: tavily_search_results_json with inputs: {'query': '2024年6月17日天津限号是多少'}\n",
      "Done tool: tavily_search_results_json\n",
      "Tool output was: [{'url': 'http://m.tj.bendibao.com/news/xianxingchaxun/', 'content': '不限号. 限行时间. 尾号限行：. ☞工作日每日7时至19时（因法定节假日放假调休而调整为上班的星期六、星期日除外）. 早晚高峰限行：. ☞工作日每日7时至9时、16时至19时（因法定节假日放假调休而调整为上班的星期六、星期日除外）. 限行区域. 天津外环线 ...'}, {'url': 'http://tj.bendibao.com/traffic/2024325/144128.shtm', 'content': '2024天津最新限行 限号安排已公布（2024.4.1-2025.3.30） 自2024年4月1日至2025年3月30日 ，工作日（因法定节假日放假调休而调整为上班的星期六、星期日除外）每日7时至19时，本市及外埠号牌机动车在外环线（不含）以内道路，继续实施按车牌尾号区域限行交通管理措施。'}]\n",
      "--\n",
      "根据|202|4|年|6|月|17|日的|日期|，|我们可以|通过|查看|限|号|安排|来确定|天津|的|限|号|。|但是|，|由于|限|号|安排|可能会|根据|法定|节假日|和|调|休|进行调整|，|因此|我们|还需要|考虑|这些|因素|。|从|搜索|结果|中|可以看出|，|限|号|安排|已经|调整|，|但是|没有|找到|202|4|年|6|月|17|日的|具体|限|号|信息|。|因此|，|我|建议|您|在|接近|那个|日期|时|再|查询|限|号|安排|，|以|获取|最|准确|的信息|。|"
     ]
    }
   ],
   "source": [
    "async for event in agent_executor.astream_events(\n",
    "    {\"messages\": [HumanMessage(content=\"2024年6月17日，天津的限号是多少?\")]}, version=\"v1\"\n",
    "):\n",
    "    kind = event[\"event\"]\n",
    "    if kind == \"on_chain_start\":\n",
    "        if (event[\"name\"] == \"Agent\"):  # Was assigned when creating the agent with `.with_config({\"run_name\": \"Agent\"})`\n",
    "            print(f\"Starting agent: {event['name']} with input: {event['data'].get('input')}\")\n",
    "    elif kind == \"on_chain_end\":\n",
    "        if ( event[\"name\"] == \"Agent\"):  # Was assigned when creating the agent with `.with_config({\"run_name\": \"Agent\"})`\n",
    "            print()\n",
    "            print(\"--\")\n",
    "            print(f\"Done agent: {event['name']} with output: {event['data'].get('output')['output']}\" )\n",
    "    if kind == \"on_chat_model_stream\":\n",
    "        content = event[\"data\"][\"chunk\"].content\n",
    "        if content:\n",
    "            # Empty content in the context of OpenAI means\n",
    "            # that the model is asking for a tool to be invoked.\n",
    "            # So we only print non-empty content\n",
    "            print(content, end=\"|\")\n",
    "    elif kind == \"on_tool_start\":\n",
    "        print(\"--\")\n",
    "        print(f\"Starting tool: {event['name']} with inputs: {event['data'].get('input')}\")\n",
    "    elif kind == \"on_tool_end\":\n",
    "        print(f\"Done tool: {event['name']}\")\n",
    "        print(f\"Tool output was: {event['data'].get('output')}\")\n",
    "        print(\"--\")"
   ]
  },
  {
   "cell_type": "markdown",
   "id": "36949023-b2b7-4d97-8714-aee26013d3f1",
   "metadata": {},
   "source": [
    "## Adding in memory - 添加内存\n",
    "如前所述，此代理是无状态的。这意味着它不记得以前的交互。  \n",
    "为了给它内存，我们需要传入一个检查点。传入检查点时，我们还必须在调用代理时传入一个thread_id（这样它就知道从哪个线程/对话恢复）。"
   ]
  },
  {
   "cell_type": "code",
   "execution_count": 45,
   "id": "703919e4-09b2-4240-ac62-2d1c0021fcf9",
   "metadata": {},
   "outputs": [],
   "source": [
    "from langgraph.checkpoint.sqlite import SqliteSaver\n",
    "\n",
    "memory = SqliteSaver.from_conn_string(\":memory:\")"
   ]
  },
  {
   "cell_type": "code",
   "execution_count": 46,
   "id": "ffb2ba17-640e-4d43-8334-2c0f2b391fff",
   "metadata": {},
   "outputs": [],
   "source": [
    "agent_executor = create_react_agent(model, tools, checkpointer=memory)\n",
    "\n",
    "config = {\"configurable\": {\"thread_id\": \"abc123\"}}"
   ]
  },
  {
   "cell_type": "code",
   "execution_count": 47,
   "id": "c58691c1-4471-4898-b261-7907f44eb636",
   "metadata": {},
   "outputs": [
    {
     "name": "stdout",
     "output_type": "stream",
     "text": [
      "{'agent': {'messages': [AIMessage(content='你好，张三！有什么可以帮助你的吗？', response_metadata={'token_usage': {'completion_tokens': 12, 'prompt_tokens': 142, 'total_tokens': 154}, 'model_name': 'glm-4', 'system_fingerprint': None, 'finish_reason': 'stop', 'logprobs': None}, id='run-b31f3e74-fd39-41aa-abf2-160facbdb41d-0')]}}\n",
      "----\n"
     ]
    }
   ],
   "source": [
    "for chunk in agent_executor.stream(\n",
    "    {\"messages\": [HumanMessage(content=\"你好 我是张三!\")]}, config\n",
    "):\n",
    "    print(chunk)\n",
    "    print(\"----\")"
   ]
  },
  {
   "cell_type": "code",
   "execution_count": 49,
   "id": "c72ac354-d5f2-46e1-a1d1-57ad2167e8ce",
   "metadata": {},
   "outputs": [
    {
     "name": "stdout",
     "output_type": "stream",
     "text": [
      "{'agent': {'messages': [AIMessage(content='是的，你之前说过你叫张三。如果你有其他问题或需要帮助，请随时告诉我！', response_metadata={'token_usage': {'completion_tokens': 23, 'prompt_tokens': 193, 'total_tokens': 216}, 'model_name': 'glm-4', 'system_fingerprint': None, 'finish_reason': 'stop', 'logprobs': None}, id='run-29a80792-c452-4fdd-a707-080eb7555678-0')]}}\n",
      "----\n"
     ]
    }
   ],
   "source": [
    "for chunk in agent_executor.stream(\n",
    "    {\"messages\": [HumanMessage(content=\"你知道我叫什么吗?\")]}, config\n",
    "):\n",
    "    print(chunk)\n",
    "    print(\"----\")"
   ]
  },
  {
   "cell_type": "markdown",
   "id": "3523f32a-899b-4843-9296-5abf96c43b52",
   "metadata": {},
   "source": [
    "如果我想开始新的对话，我所要做的就是更改使用的thread_id"
   ]
  },
  {
   "cell_type": "code",
   "execution_count": 50,
   "id": "98e1edd2-e73e-49f2-934d-eb581e0a704e",
   "metadata": {},
   "outputs": [
    {
     "name": "stdout",
     "output_type": "stream",
     "text": [
      "{'agent': {'messages': [AIMessage(content='作为人工智能助手，我没有访问您个人信息的能力，所以我不知道您的名字。如果您需要个性化的帮助，请告诉我您希望如何称呼您。', response_metadata={'token_usage': {'completion_tokens': 30, 'prompt_tokens': 142, 'total_tokens': 172}, 'model_name': 'glm-4', 'system_fingerprint': None, 'finish_reason': 'stop', 'logprobs': None}, id='run-9834b61c-68cd-4e3e-8885-063b52dbae48-0')]}}\n",
      "----\n"
     ]
    }
   ],
   "source": [
    "config = {\"configurable\": {\"thread_id\": \"xyz123\"}}\n",
    "for chunk in agent_executor.stream(\n",
    "    {\"messages\": [HumanMessage(content=\"你知道我叫什么吗?\")]}, config\n",
    "):\n",
    "    print(chunk)\n",
    "    print(\"----\")"
   ]
  },
  {
   "cell_type": "code",
   "execution_count": null,
   "id": "709614f4-fe9a-45fa-8270-d1eb7d1c3023",
   "metadata": {},
   "outputs": [],
   "source": []
  }
 ],
 "metadata": {
  "kernelspec": {
   "display_name": "Python 3 (ipykernel)",
   "language": "python",
   "name": "python3"
  },
  "language_info": {
   "codemirror_mode": {
    "name": "ipython",
    "version": 3
   },
   "file_extension": ".py",
   "mimetype": "text/x-python",
   "name": "python",
   "nbconvert_exporter": "python",
   "pygments_lexer": "ipython3",
   "version": "3.11.9"
  }
 },
 "nbformat": 4,
 "nbformat_minor": 5
}
