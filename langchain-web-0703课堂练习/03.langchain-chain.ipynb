{
 "cells": [
  {
   "cell_type": "markdown",
   "id": "ccbcdfea-2347-4ab9-99c9-d51b0a8f6caf",
   "metadata": {},
   "source": [
    "# Chains in LangChain（LangChain中的链）\n",
    "## Outline大纲\n",
    " - LLMChain（大语言模型链）\n",
    " - Sequential Chains（顺序链）\n",
    "    - SimpleSequentialChain\n",
    "    - SequentialChain\n",
    " - Router Chain（路由链）\n",
    "\n",
    "### 为什么我们需要Chains ？\n",
    "\n",
    "链允许我们将多个组件组合在一起，以创建一个单一的、连贯的应用程序。链（Chains）通常将一个LLM（大语言模型）与提示结合在一起，使用这个构建块，您还可以将一堆这些构建块组合在一起，对您的文本或其他数据进行一系列操作。例如，我们可以创建一个链，该链接受用户输入，使用提示模板对其进行格式化，然后将格式化的响应传递给LLM。我们可以通过将多个链组合在一起，或者通过将链与其他组件组合在一起来构建更复杂的链。"
   ]
  },
  {
   "cell_type": "code",
   "execution_count": 1,
   "id": "fcd3acfe-ccaa-4acf-be76-05f0b4d79613",
   "metadata": {},
   "outputs": [],
   "source": [
    "from dotenv import load_dotenv,find_dotenv\n",
    "_ = load_dotenv(find_dotenv())"
   ]
  },
  {
   "cell_type": "code",
   "execution_count": 2,
   "id": "80031f45-7e08-4da5-80b0-af41c0a140f6",
   "metadata": {},
   "outputs": [],
   "source": [
    "# !pip install pandas"
   ]
  },
  {
   "cell_type": "code",
   "execution_count": 4,
   "id": "44467511-6550-4043-8b87-a4e9d7612852",
   "metadata": {},
   "outputs": [
    {
     "data": {
      "text/html": [
       "<div>\n",
       "<style scoped>\n",
       "    .dataframe tbody tr th:only-of-type {\n",
       "        vertical-align: middle;\n",
       "    }\n",
       "\n",
       "    .dataframe tbody tr th {\n",
       "        vertical-align: top;\n",
       "    }\n",
       "\n",
       "    .dataframe thead th {\n",
       "        text-align: right;\n",
       "    }\n",
       "</style>\n",
       "<table border=\"1\" class=\"dataframe\">\n",
       "  <thead>\n",
       "    <tr style=\"text-align: right;\">\n",
       "      <th></th>\n",
       "      <th>Product</th>\n",
       "      <th>Review</th>\n",
       "    </tr>\n",
       "  </thead>\n",
       "  <tbody>\n",
       "    <tr>\n",
       "      <th>0</th>\n",
       "      <td>加大床单套装</td>\n",
       "      <td>我订购了一套特大号床单。我唯一的批评是，我希望卖家能提供带有4个枕套的特大号套装。我另外单独...</td>\n",
       "    </tr>\n",
       "    <tr>\n",
       "      <th>1</th>\n",
       "      <td>防水手机袋</td>\n",
       "      <td>我喜欢这个防水袋，尽管开口处是硬塑料做的。我不知道它是否会轻易破裂。但我的手机一旦放入袋子里...</td>\n",
       "    </tr>\n",
       "    <tr>\n",
       "      <th>2</th>\n",
       "      <td>豪华空气床垫</td>\n",
       "      <td>这款床垫顶部有一个小洞（花了很长时间才找到），而他们提供的补丁没有起作用，可能是因为是在床垫...</td>\n",
       "    </tr>\n",
       "    <tr>\n",
       "      <th>3</th>\n",
       "      <td>枕头内胆</td>\n",
       "      <td>这是亚马逊上最好的抱枕填充物。我已经试过好几种，不管你怎么拍打，它们都很便宜且扁平。当你把它...</td>\n",
       "    </tr>\n",
       "    <tr>\n",
       "      <th>4</th>\n",
       "      <td>手持奶泡器</td>\n",
       "      <td>我非常喜欢这个产品。但它似乎只能用几个月。公司第一次更换时表现很好（奶泡器从手柄中掉出，无法...</td>\n",
       "    </tr>\n",
       "  </tbody>\n",
       "</table>\n",
       "</div>"
      ],
      "text/plain": [
       "  Product                                             Review\n",
       "0  加大床单套装  我订购了一套特大号床单。我唯一的批评是，我希望卖家能提供带有4个枕套的特大号套装。我另外单独...\n",
       "1   防水手机袋  我喜欢这个防水袋，尽管开口处是硬塑料做的。我不知道它是否会轻易破裂。但我的手机一旦放入袋子里...\n",
       "2  豪华空气床垫  这款床垫顶部有一个小洞（花了很长时间才找到），而他们提供的补丁没有起作用，可能是因为是在床垫...\n",
       "3    枕头内胆  这是亚马逊上最好的抱枕填充物。我已经试过好几种，不管你怎么拍打，它们都很便宜且扁平。当你把它...\n",
       "4   手持奶泡器  我非常喜欢这个产品。但它似乎只能用几个月。公司第一次更换时表现很好（奶泡器从手柄中掉出，无法..."
      ]
     },
     "execution_count": 4,
     "metadata": {},
     "output_type": "execute_result"
    }
   ],
   "source": [
    "import pandas as pd\n",
    "df = pd.read_csv(\"Data.csv\")\n",
    "df.head()"
   ]
  },
  {
   "cell_type": "markdown",
   "id": "d1b7856d-b16b-42e1-a4e9-d74756ece768",
   "metadata": {},
   "source": [
    "## 1. LLMChain \n",
    "LLMChain是一个简单但非常强大的链，也是后面我们将要介绍的许多链的基础。"
   ]
  },
  {
   "cell_type": "code",
   "execution_count": 5,
   "id": "c4686319-3992-46ba-8f50-7d86e68e4c14",
   "metadata": {},
   "outputs": [],
   "source": [
    "from langchain_community.chat_models import ChatZhipuAI\n",
    "from langchain.prompts import ChatPromptTemplate\n",
    "from langchain.chains import LLMChain"
   ]
  },
  {
   "cell_type": "markdown",
   "id": "9b811132-7cdf-494b-b1c1-3c7177734dc2",
   "metadata": {},
   "source": [
    "初始化语言模型"
   ]
  },
  {
   "cell_type": "code",
   "execution_count": 6,
   "id": "e5e58243-5ab5-43fb-b8ab-3ba7aa4fb75a",
   "metadata": {},
   "outputs": [],
   "source": [
    "llm = ChatZhipuAI(temperature=0.9)"
   ]
  },
  {
   "cell_type": "markdown",
   "id": "735c2097-208d-4459-bc13-5412f39986b1",
   "metadata": {},
   "source": [
    "初始化prompt，这个prompt将接受一个名为product的变量。该prompt将要求LLM生成一个描述制造该产品的公司的最佳名称"
   ]
  },
  {
   "cell_type": "code",
   "execution_count": 8,
   "id": "756d089d-b351-4eb6-b6e3-87d046a0ee3d",
   "metadata": {},
   "outputs": [],
   "source": [
    "prompt = ChatPromptTemplate.from_template(\"描述一家生产{product}的公司的最佳名称是什么?\")"
   ]
  },
  {
   "cell_type": "markdown",
   "id": "c516ad7d-e229-40ef-b58e-82be4728fb62",
   "metadata": {},
   "source": [
    "将llm和prompt组合成链---这个LLM链非常简单，他只是llm和prompt的结合，但是现在，这个链让我们可以以一种顺序的方式去通过prompt运行并且结合到LLM中  \n",
    "因此，如果我们有一个名为\"加大床单套装\"的产品，我们可以通过使用chain.invoke将其通过这个链运行  \n",
    "您也可以输入任何产品描述，然后查看链将输出什么结果"
   ]
  },
  {
   "cell_type": "code",
   "execution_count": 9,
   "id": "7f58c39f-bcf0-4115-b856-b867f967119d",
   "metadata": {},
   "outputs": [
    {
     "data": {
      "text/plain": [
       "AIMessage(content='考虑到该公司专注于生产加大床单套装，并强调舒适、卫生和便捷性，一个最佳的名称可以是“宽舒隔脏专家（GRAREY Comfort Guardian）”。这个名字结合了产品的主要特点：“宽舒”代表了床单的加大加宽设计，提供舒适的睡眠体验；“隔脏专家”则强调了产品在卫生方面的专业性，即使用SMS无纺布材料和真空包装，有效隔开潜在的污染物，保障用户的健康。此外，“GRAREY”这个词如果是公司原有品牌名称，也可以保留以保持品牌识别度。', response_metadata={'token_usage': {'completion_tokens': 115, 'prompt_tokens': 1198, 'total_tokens': 1313}, 'model_name': 'glm-4', 'finish_reason': 'stop'}, id='run-c28300aa-3b20-4751-9c8d-e27e9a8ee211-0')"
      ]
     },
     "execution_count": 9,
     "metadata": {},
     "output_type": "execute_result"
    }
   ],
   "source": [
    "product = \"加大床单套装\"\n",
    "(prompt|llm).invoke(product)"
   ]
  },
  {
   "cell_type": "markdown",
   "id": "d7c39045-78be-4245-93d4-f86d15ae2515",
   "metadata": {},
   "source": [
    "## 2. Sequential Chains\n",
    "\n",
    "### 2.1 SimpleSequentialChain\n",
    "\n",
    "顺序链（Sequential Chains）是按预定义顺序执行其链接的链。具体来说，我们将使用简单顺序链（SimpleSequentialChain），这是顺序链的最简单类型，其中每个步骤都有一个输入/输出，一个步骤的输出是下一个步骤的输入"
   ]
  },
  {
   "cell_type": "code",
   "execution_count": 10,
   "id": "8d35ec02-26d5-4dea-91c5-c1b73b6cd2a3",
   "metadata": {},
   "outputs": [],
   "source": [
    "from langchain.chains import SimpleSequentialChain"
   ]
  },
  {
   "cell_type": "markdown",
   "id": "a9bb50a4-318d-4cea-8d54-6336207c201c",
   "metadata": {},
   "source": [
    "子链 1"
   ]
  },
  {
   "cell_type": "code",
   "execution_count": 12,
   "id": "876dd2bc-8627-4870-ae33-172cb80fee5c",
   "metadata": {},
   "outputs": [],
   "source": [
    "prompt1 = ChatPromptTemplate.from_template(\"描述一家生产{product}的公司的最佳名称是什么?\")\n",
    "# chain_one = (prompt|llm)\n",
    "chain_one = LLMChain(llm=llm, prompt=prompt1)"
   ]
  },
  {
   "cell_type": "markdown",
   "id": "2fa14991-f4f3-48fb-8d65-de02f2e39fed",
   "metadata": {},
   "source": [
    "子链 2"
   ]
  },
  {
   "cell_type": "code",
   "execution_count": 13,
   "id": "6a46fb1e-d263-4add-a856-d012bfc9d250",
   "metadata": {},
   "outputs": [],
   "source": [
    "prompt2 = ChatPromptTemplate.from_template(\"写一个20字的描述对于下面这个公司：{company_name}的\")\n",
    "chain_two = LLMChain(llm=llm, prompt=prompt2)"
   ]
  },
  {
   "cell_type": "code",
   "execution_count": 14,
   "id": "64dbb597-7764-45c2-89c7-54fc8d69db88",
   "metadata": {},
   "outputs": [],
   "source": [
    "overall_simple_chain = SimpleSequentialChain(\n",
    "    chains=[chain_one, chain_two], verbose=True\n",
    ")"
   ]
  },
  {
   "cell_type": "markdown",
   "id": "36bc0656-1630-4b62-a9c1-66adf3f3735e",
   "metadata": {},
   "source": [
    "现在我们可以组合两个LLMChain，以便我们可以在一个步骤中创建公司名称和描述  \n",
    "给一个输入，然后运行上面的链"
   ]
  },
  {
   "cell_type": "code",
   "execution_count": 15,
   "id": "01f08921-e63a-4262-abe7-5e9bfdb4b4b4",
   "metadata": {},
   "outputs": [
    {
     "name": "stdout",
     "output_type": "stream",
     "text": [
      "\n",
      "\n",
      "\u001b[1m> Entering new SimpleSequentialChain chain...\u001b[0m\n",
      "\u001b[36;1m\u001b[1;3m考虑到该公司专注于生产加大床单套装，并关注卫生、舒适和便捷性，一个最佳的名称可以是“宅旅安心家纺（Zailv Anxin Home Textiles）”。这个名字融合了产品的主要特点：“宅旅”表达了产品适用于外出旅行时也能享受到居家般的安心；“安心”强调了产品为消费者带来的卫生与舒适感；“家纺”则明确了公司的业务范围，即家用纺织品。这样的名称既符合产品特性，又能吸引目标消费者的注意。\u001b[0m\n",
      "\u001b[33;1m\u001b[1;3m\"专注加大床单，卫生舒适，宅旅首选。\"\u001b[0m\n",
      "\n",
      "\u001b[1m> Finished chain.\u001b[0m\n"
     ]
    },
    {
     "data": {
      "text/plain": [
       "{'input': '加大床单套装', 'output': '\"专注加大床单，卫生舒适，宅旅首选。\"'}"
      ]
     },
     "execution_count": 15,
     "metadata": {},
     "output_type": "execute_result"
    }
   ],
   "source": [
    "overall_simple_chain.invoke(product)"
   ]
  },
  {
   "cell_type": "markdown",
   "id": "24ec7c63-9caf-4d0f-8f0d-98527d8e608f",
   "metadata": {},
   "source": [
    "### 2.2 SequentialChain\n",
    "\n",
    "当只有一个输入和一个输出时，简单的顺序链可以顺利完成。但是当有多个输入或多个输出时该如何实现呢？  \n",
    "\n",
    "我们可以使用普通的顺序链来实现这一点"
   ]
  },
  {
   "cell_type": "code",
   "execution_count": 16,
   "id": "96aa66b8-5933-4867-965c-cd8a4deb1eff",
   "metadata": {},
   "outputs": [],
   "source": [
    "from langchain.chains import SequentialChain\n",
    "from langchain_community.chat_models import ChatZhipuAI  #导入OpenAI模型\n",
    "from langchain.prompts import ChatPromptTemplate          #导入聊天提示模板\n",
    "from langchain.chains import LLMChain                     #导入LLM链。"
   ]
  },
  {
   "cell_type": "markdown",
   "id": "37cee3eb-0eea-4b5a-a0aa-1d335a7f9e75",
   "metadata": {},
   "source": [
    "初始化语言模型"
   ]
  },
  {
   "cell_type": "code",
   "execution_count": 17,
   "id": "c582f36f-8aeb-42ee-a2a8-4d2d9f23f570",
   "metadata": {},
   "outputs": [],
   "source": [
    "llm = ChatZhipuAI(temperature=0.9)"
   ]
  },
  {
   "cell_type": "markdown",
   "id": "3b9073c9-9544-4821-8736-e15cba01c4eb",
   "metadata": {},
   "source": [
    "接下来我们将创建一系列的链，然后一个接一个使用他们"
   ]
  },
  {
   "cell_type": "code",
   "execution_count": 18,
   "id": "2a343864-28ff-4418-9ef3-a534efdae829",
   "metadata": {},
   "outputs": [],
   "source": [
    "# prompt模板 1: 翻译成中文（把下面的review翻译成中文）\n",
    "prompt1 = ChatPromptTemplate.from_template(\"用中文翻译下面的评论：\"\n",
    "                                           \"\\n\\n{Review}\")\n",
    "# chain 1: 输入：Review 输出： 中文的 Review\n",
    "chain1 = LLMChain(llm=llm,prompt=prompt1,output_key=\"ch_Review\")"
   ]
  },
  {
   "cell_type": "code",
   "execution_count": 19,
   "id": "e965c37a-d7eb-4bbf-b5ce-9d8d7484aaf3",
   "metadata": {},
   "outputs": [],
   "source": [
    "# prompt模板 2: 用一句话总结下面的 review\n",
    "prompt2 = ChatPromptTemplate.from_template(\"能否用一句话概括以下评论的内容:\"\n",
    "                                           \"\\n\\n{ch_Review}\")\n",
    "# chain 2: 输入：中文的Review   输出：总结\n",
    "chain2 = LLMChain(llm=llm,prompt=prompt2,output_key=\"summary\")"
   ]
  },
  {
   "cell_type": "code",
   "execution_count": 20,
   "id": "57ed8db8-d4ce-433e-9190-8e81784019b0",
   "metadata": {},
   "outputs": [],
   "source": [
    "# prompt模板 3: 下面review使用的什么语言\n",
    "prompt3 = ChatPromptTemplate.from_template(\"下面review使用的什么语言,只输出语种:\\n\\n{Review}\")\n",
    "# chain 3: 输入：Review  输出：语言\n",
    "chain3 = LLMChain(llm=llm,prompt=prompt3,output_key=\"language\")"
   ]
  },
  {
   "cell_type": "code",
   "execution_count": 21,
   "id": "c32fe556-9889-4c0e-ad6d-c58f1a49b483",
   "metadata": {},
   "outputs": [],
   "source": [
    "# prompt模板 4: 使用特定的语言对下面的总结写一个后续回复\n",
    "prompt4 = ChatPromptTemplate.from_template(\n",
    "    \"使用下面的指定语言对下面的总结写后续回复:\"\n",
    "    \"\\n\\n总结:{summary}\"\n",
    "    \"\\n\\n语言:{language}\"\n",
    ")\n",
    "# chain 4: 输入： 总结, 语言    输出： 后续回复\n",
    "chain4 = LLMChain(llm=llm,prompt=prompt4,output_key=\"followup_message\")"
   ]
  },
  {
   "cell_type": "code",
   "execution_count": 22,
   "id": "0c234ea8-6aad-4e87-89de-458a67f879d7",
   "metadata": {},
   "outputs": [],
   "source": [
    "# 对四个子链进行组合\n",
    "\n",
    "#输入：review    输出：英文review，总结，后续回复 \n",
    "overall_chain = SequentialChain(\n",
    "    chains=[chain1,chain2,chain3,chain4],\n",
    "    input_variables=[\"Review\"],\n",
    "    output_variables=[\"ch_Review\",\"summary\",\"language\",\"followup_message\"],\n",
    "    verbose=False\n",
    ")"
   ]
  },
  {
   "cell_type": "markdown",
   "id": "07386633-7dd5-498a-b7f5-a78cf07e13d0",
   "metadata": {},
   "source": [
    "让我们选择一篇评论并通过整个链传递它，可以发现，原始review是英文，可以把中文review看做是一种翻译，接下来是根据中文review得到的总结，最后输出的是用英文原文进行的续写信息。"
   ]
  },
  {
   "cell_type": "code",
   "execution_count": 23,
   "id": "56665413-96e8-4814-849b-13f342555c4f",
   "metadata": {},
   "outputs": [],
   "source": [
    "df = pd.read_csv(\"Data.csv\")\n",
    "# df.head()\n",
    "review = df.Review[5]"
   ]
  },
  {
   "cell_type": "code",
   "execution_count": 24,
   "id": "49627005-9990-4733-b04b-8300cba2586d",
   "metadata": {},
   "outputs": [
    {
     "data": {
      "text/plain": [
       "{'Review': \"I find the taste mediocre. The foam doesn't last, which is strange. The ones I buy in-store of the same type taste much better... Is it an old batch or a counterfeit!?!\",\n",
       " 'ch_Review': '我觉得这个味道平平无奇。泡沫也不持久，很奇怪。我店里买的同款味道要好很多……这是不是一个旧批次或者是假货！？！',\n",
       " 'summary': '\"评论者对购买的产品味道和泡沫表现失望，怀疑可能是旧批次或假货。\"',\n",
       " 'language': 'English',\n",
       " 'followup_message': \"Follow-up Reply:\\n\\nI understand the commenter's disappointment regarding the taste and foam performance of the purchased product. It's concerning that they suspect it might be an old batch or a counterfeit item. We take these concerns seriously and would like to assure our customers that we are looking into the matter immediately. Quality control is a top priority for us, and we will do our best to address any issues that may have arisen. We appreciate the feedback and encourage anyone with similar experiences to reach out to us for further assistance.\"}"
      ]
     },
     "execution_count": 24,
     "metadata": {},
     "output_type": "execute_result"
    }
   ],
   "source": [
    "overall_chain.invoke(review)"
   ]
  },
  {
   "cell_type": "markdown",
   "id": "7b3b5191-d1c0-4a14-b1a8-1274ca5937ca",
   "metadata": {},
   "source": [
    "## 3.Router Chain\n",
    "\n",
    "到目前为止，我们已经学习了LLM链和顺序链。但是，如果您想做一些更复杂的事情怎么办？\n",
    "\n",
    "一个相当常见但基本的操作是根据输入将其路由到一条链，具体取决于该输入到底是什么。如果你有多个子链，每个子链都专门用于特定类型的输入，那么可以组成一个路由链，它首先决定将它传递给哪个子链，然后将它传递给那个链。\n",
    "\n",
    "路由器由两个组件组成：\n",
    "\n",
    " - 路由器链本身（负责选择要调用的下一个链）\n",
    " - destination_chains：路由器链可以路由到的链  \n",
    "\n",
    "举一个具体的例子，让我们看一下我们在不同类型的链之间路由的地方，我们在这里有不同的prompt:"
   ]
  },
  {
   "cell_type": "code",
   "execution_count": 25,
   "id": "db9459a4-bcb1-4703-8cb4-106f5f06d685",
   "metadata": {},
   "outputs": [],
   "source": [
    "#第一个提示适合回答物理问题\n",
    "physics_template = \"\"\"你是一位非常聪明的物理学教授。\\\n",
    "你在以简洁且易于理解的方式回答物理学问题上非常出色。\\\n",
    "当遇到不知道问题的答案时，你会坦诚表示自己不知道。\n",
    "\n",
    "这里有一个问题：\n",
    "{input}\"\"\"\n",
    "\n",
    "\n",
    "#第二个提示适合回答数学问题\n",
    "math_template = \"\"\"你是一个非常优秀的数学家。\\\n",
    "你非常擅长解答数学问题。\\\n",
    "你之所以如此出色，是因为你能将难题分解成各个组成部分，\\\n",
    "分别解答这些组成部分，然后再将它们组合起来，\\\n",
    "从而解答更广泛的问题。\n",
    "\n",
    "这里有一个问题：\n",
    "{input}\"\"\"\n",
    "\n",
    "\n",
    "#第三个适合回答历史问题\n",
    "history_template = \"\"\"你是一位非常出色的历史学家。\\\n",
    "你对横跨多个历史时期的人物、事件和背景拥有卓越的知识和深刻的理解。\\\n",
    "你具备思考、反思、辩论、讨论及评估过去的能力。\\\n",
    "你尊重历史证据，并能利用这些证据来支持你的解释和判断。\n",
    "\n",
    "这里有一个问题：\n",
    "{input}\"\"\"\n",
    "\n",
    "\n",
    "#第四个适合回答计算机问题\n",
    "computerscience_template = \"\"\" 你是一位成功的计算机科学家。\\\n",
    "你对创新、合作、前瞻思维、自信、强大的解决问题能力、\\\n",
    "理论与算法的理解以及出色的沟通技巧充满热情。\\\n",
    "你非常擅长回答编程问题。\\\n",
    "你之所以如此出色，是因为你知道如何通过描述命令式步骤来解决问题，\\\n",
    "使机器能轻松解读，并且你知道如何选择一个在时间复杂度和空间复杂度之间\\\n",
    "具有良好平衡的解决方案。\n",
    "\n",
    "这里有一个问题：\n",
    "{input}\"\"\""
   ]
  },
  {
   "cell_type": "markdown",
   "id": "0558519e-f824-4c73-9ede-5098af3ae801",
   "metadata": {},
   "source": [
    "首先需要定义这些提示模板，在我们拥有了这些提示模板后，可以为每个模板命名，然后提供描述。例如，第一个物理学的描述适合回答关于物理学的问题，这些信息将传递给路由链，然后由路由链决定何时使用此子链。"
   ]
  },
  {
   "cell_type": "code",
   "execution_count": 26,
   "id": "29767a39-ca8e-4e1a-b106-3dd9a7747bdf",
   "metadata": {},
   "outputs": [],
   "source": [
    "prompt_infos = [\n",
    "    {\n",
    "        \"name\": \"物理\", \n",
    "        \"description\": \"适合回答物理问题\", \n",
    "        \"prompt_template\": physics_template\n",
    "    },\n",
    "    {\n",
    "        \"name\": \"数学\", \n",
    "        \"description\": \"适合回答数学问题\", \n",
    "        \"prompt_template\": math_template\n",
    "    },\n",
    "    {\n",
    "        \"name\": \"历史\", \n",
    "        \"description\": \"适合回答历史问题\", \n",
    "        \"prompt_template\": history_template\n",
    "    },\n",
    "    {\n",
    "        \"name\": \"计算机科学\", \n",
    "        \"description\": \"适合回答计算机科学问题\", \n",
    "        \"prompt_template\": computerscience_template\n",
    "    }\n",
    "]"
   ]
  },
  {
   "cell_type": "markdown",
   "id": "add78710-c89a-4f19-a58d-8828cdbe7a7c",
   "metadata": {},
   "source": [
    "导入相关的包"
   ]
  },
  {
   "cell_type": "code",
   "execution_count": 27,
   "id": "6e39806f-88d2-4ea3-9b2b-89c074a1e9a1",
   "metadata": {},
   "outputs": [],
   "source": [
    "from langchain.chains.router import MultiPromptChain # 导入多提示连\n",
    "from langchain.chains.router.llm_router import LLMRouterChain,RouterOutputParser\n",
    "from langchain.prompts import PromptTemplate,ChatPromptTemplate\n",
    "from langchain_community.chat_models import ChatZhipuAI  #导入OpenAI模型"
   ]
  },
  {
   "cell_type": "markdown",
   "id": "af205db9-125c-46ee-8d4e-b4a285c6cba2",
   "metadata": {},
   "source": [
    "定义语言模型"
   ]
  },
  {
   "cell_type": "code",
   "execution_count": 28,
   "id": "2e1e6240-bd4a-4395-a345-6866f12f5303",
   "metadata": {},
   "outputs": [],
   "source": [
    "llm = ChatZhipuAI(temperature=0.0)"
   ]
  },
  {
   "cell_type": "markdown",
   "id": "f802c273-761d-4cc6-bde1-c2f61afcb77a",
   "metadata": {},
   "source": [
    "### LLMRouterChain（此链使用 LLM 来确定如何路由事物）\n",
    "\n",
    "在这里，我们需要一个多提示链。这是一种特定类型的链，用于在多个不同的提示模板之间进行路由。 但是，这只是你可以路由的一种类型。你也可以在任何类型的链之间进行路由。  \n",
    "\n",
    "这里我们要实现的几个类是LLM路由器链。这个类本身使用语言模型来在不同的子链之间进行路由。 这就是上面提供的描述和名称将被使用的地方。  \n",
    "\n",
    "#### 创建目标链  \n",
    "目标链是由路由链调用的链，每个目标链都是一个语言模型链  "
   ]
  },
  {
   "cell_type": "code",
   "execution_count": 29,
   "id": "adc9244a-a62e-4285-b54a-8eb1a4f34e0b",
   "metadata": {},
   "outputs": [
    {
     "data": {
      "text/plain": [
       "'物理:适合回答物理问题\\n数学:适合回答数学问题\\n历史:适合回答历史问题\\n计算机科学:适合回答计算机科学问题'"
      ]
     },
     "execution_count": 29,
     "metadata": {},
     "output_type": "execute_result"
    }
   ],
   "source": [
    "destination_chains = {}\n",
    "for p_info in prompt_infos:\n",
    "    name = p_info[\"name\"]\n",
    "    prompt_template = p_info[\"prompt_template\"]\n",
    "    prompt = ChatPromptTemplate.from_template(template=prompt_template)\n",
    "    chain = LLMChain(llm=llm,prompt=prompt)\n",
    "    destination_chains[name] = chain\n",
    "\n",
    "destinations = [f\"{p['name']}:{p['description']}\" for p in prompt_infos]\n",
    "destinations_str = \"\\n\".join(destinations)\n",
    "destinations_str"
   ]
  },
  {
   "cell_type": "markdown",
   "id": "7e56051e-3b4c-4002-857b-d3898047e5d8",
   "metadata": {},
   "source": [
    "#### 创建默认目标链\n",
    "除了目标链之外，我们还需要一个默认目标链。这是一个当路由器无法决定使用哪个子链时调用的链。在上面的示例中，当输入问题与物理、数学、历史或计算机科学无关时，可能会调用它。"
   ]
  },
  {
   "cell_type": "code",
   "execution_count": 30,
   "id": "5e8646f1-2ef8-45b8-a873-c412dd9f4eb2",
   "metadata": {},
   "outputs": [],
   "source": [
    "default_prompt = ChatPromptTemplate.from_template(\"{input}\")\n",
    "default_chain = LLMChain(llm=llm,prompt=default_prompt)"
   ]
  },
  {
   "cell_type": "markdown",
   "id": "cd5c94cc-e57b-4596-b47f-604b698225a5",
   "metadata": {},
   "source": [
    "#### 创建LLM用于在不同链之间进行路由的模板 \n",
    "\n",
    "这包括要完成的任务的说明以及输出应该采用的特定格式。"
   ]
  },
  {
   "cell_type": "code",
   "execution_count": 31,
   "id": "9d2c151b-818e-47b9-b624-a10850226449",
   "metadata": {},
   "outputs": [],
   "source": [
    "# from langchain.chains.router.multi_prompt_prompt import MULTI_PROMPT_ROUTER_TEMPLATE\n",
    "MULTI_PROMPT_ROUTER_TEMPLATE = \"\"\"\n",
    "Given a raw text input to a language model select the model prompt best suited for the input. \\\n",
    "You will be given the names of the available prompts and a description of what the prompt is best suited for.\\\n",
    "You may also revise the original input if you think that revising it will ultimately lead to a better response from the language model.\\\n",
    "\n",
    "<< FORMATTING >>\n",
    "Return a markdown code snippet with a JSON object formatted to look like:\n",
    "```json\n",
    "{{{{\n",
    "    \"destination\": string \\ name of the prompt to use or \"DEFAULT\"\n",
    "    \"next_inputs\": string \\ a potentially modified version of the original input\n",
    "}}}}\n",
    "```\n",
    "\n",
    "REMEMBER: \"destination\" MUST be one of the candidate prompt names specified below OR it can be \"DEFAULT\".\n",
    "REMEMBER: \"next_inputs\" can just be the original input if you don't think any modifications are needed.\n",
    "\n",
    "<< CANDIDATE PROMPTS >>\n",
    "{destinations}\n",
    "\n",
    "<< INPUT >>\n",
    "{{input}}\n",
    "\n",
    "<< OUTPUT (must include ```json at the start of the response) >>\n",
    "<< OUTPUT (must end with ```) >>\n",
    "\"\"\""
   ]
  },
  {
   "cell_type": "raw",
   "id": "b4cc5a9c-3997-4905-928f-6512df92d1bb",
   "metadata": {},
   "source": [
    "MULTI_PROMPT_ROUTER_TEMPLATE 的内容如下\n",
    "可以print(MULTI_PROMPT_ROUTER_TEMPLATE)\n",
    "\n",
    "给定语言模型的原始文本输入，选择最适合输入的模型提示。 \n",
    "您将获得可用提示的名称以及该提示最适合的说明。 \n",
    "如果您认为修改原始输入最终会导致语言模型得到更好的响应，您也可以修改原始输入。\n",
    "\n",
    "<< 格式化 >>\n",
    "返回一个 Markdown 代码片段，其中 JSON 对象的格式如下：\n",
    "```json\n",
    "{{{{\n",
    "     “destination”：字符串\\要使用的提示名称或“DEFAULT”\n",
    "     “next_inputs”：字符串\\原始输入的可能修改版本\n",
    "}}}}\n",
    "````\n",
    "\n",
    "请记住：“destination”必须是下面指定的候选提示名称之一，或者如果输入不太适合任何候选提示，则它可以是“DEFAULT”。\n",
    "请记住：如果您认为不需要任何修改，“next_inputs”可以只是原始输入。\n",
    "\n",
    "<< 候选人提示 >>\n",
    "{destinations}\n",
    "\n",
    "<< INPUT >>\n",
    "{{input}}\n",
    "\n",
    "<< OUTPUT (must include ```json at the start of the response) >>\n",
    "<< OUTPUT (must end with ```) >>"
   ]
  },
  {
   "cell_type": "markdown",
   "id": "de502954-053d-4c8c-a8b8-60edd73c7f09",
   "metadata": {},
   "source": [
    "#### 构建路由链\n",
    "首先，我们通过格式化上面定义的目标创建完整的路由器模板。这个模板可以适用许多不同类型的目标。 因此，在这里，您可以添加一个不同的学科，如英语或拉丁语，而不仅仅是物理、数学、历史和计算机科学。  \n",
    "\n",
    "接下来，我们从这个模板创建提示模板  \n",
    "\n",
    "最后，通过传入llm和整个路由提示来创建路由链。需要注意的是这里有路由输出解析，这很重要，因为它将帮助这个链路决定在哪些子链路之间进行路由。"
   ]
  },
  {
   "cell_type": "code",
   "execution_count": 32,
   "id": "6884f8d0-2bf6-4546-a8fa-9712cfa1f033",
   "metadata": {},
   "outputs": [
    {
     "name": "stdout",
     "output_type": "stream",
     "text": [
      "\n",
      "Given a raw text input to a language model select the model prompt best suited for the input. You will be given the names of the available prompts and a description of what the prompt is best suited for.You may also revise the original input if you think that revising it will ultimately lead to a better response from the language model.\n",
      "<< FORMATTING >>\n",
      "Return a markdown code snippet with a JSON object formatted to look like:\n",
      "```json\n",
      "{{\n",
      "    \"destination\": string \\ name of the prompt to use or \"DEFAULT\"\n",
      "    \"next_inputs\": string \\ a potentially modified version of the original input\n",
      "}}\n",
      "```\n",
      "\n",
      "REMEMBER: \"destination\" MUST be one of the candidate prompt names specified below OR it can be \"DEFAULT\".\n",
      "REMEMBER: \"next_inputs\" can just be the original input if you don't think any modifications are needed.\n",
      "\n",
      "<< CANDIDATE PROMPTS >>\n",
      "物理:适合回答物理问题\n",
      "数学:适合回答数学问题\n",
      "历史:适合回答历史问题\n",
      "计算机科学:适合回答计算机科学问题\n",
      "\n",
      "<< INPUT >>\n",
      "{input}\n",
      "\n",
      "<< OUTPUT (must include ```json at the start of the response) >>\n",
      "<< OUTPUT (must end with ```) >>\n",
      "\n"
     ]
    }
   ],
   "source": [
    "router_template = MULTI_PROMPT_ROUTER_TEMPLATE.format(destinations=destinations_str)\n",
    "print(router_template)"
   ]
  },
  {
   "cell_type": "code",
   "execution_count": 33,
   "id": "d4f0462b-5ddd-4ea7-8439-2f94d8c6bc7f",
   "metadata": {},
   "outputs": [],
   "source": [
    "router_prompt = PromptTemplate(\n",
    "    template=router_template,\n",
    "    input_variables=[\"input\"],\n",
    "    output_parser=RouterOutputParser()\n",
    ")\n",
    "router_chain = LLMRouterChain.from_llm(llm,router_prompt)"
   ]
  },
  {
   "cell_type": "markdown",
   "id": "90f8ab76-ba21-445c-b3b7-261ec76a1748",
   "metadata": {},
   "source": [
    "最后，将所有内容整合在一起，创建整体链路"
   ]
  },
  {
   "cell_type": "code",
   "execution_count": 34,
   "id": "86f7bb25-bcd9-4396-8e56-fa868a372cc9",
   "metadata": {},
   "outputs": [],
   "source": [
    "#多提示链\n",
    "chain = MultiPromptChain(\n",
    "    router_chain = router_chain,              #路由链路\n",
    "    destination_chains = destination_chains,  #目标链路\n",
    "    default_chain = default_chain,            #默认链路\n",
    "    verbose = True\n",
    ")"
   ]
  },
  {
   "cell_type": "markdown",
   "id": "c1dbcf3b-0c5e-4046-8a0a-e748f9b98073",
   "metadata": {},
   "source": [
    "#### 进行提问\n",
    "\n",
    "如果我们问一个物理问题，我们希望看到他被路由到物理链路"
   ]
  },
  {
   "cell_type": "code",
   "execution_count": 35,
   "id": "a06a40cf-3fa6-4aec-9b02-f529be834961",
   "metadata": {},
   "outputs": [
    {
     "name": "stdout",
     "output_type": "stream",
     "text": [
      "\n",
      "\n",
      "\u001b[1m> Entering new MultiPromptChain chain...\u001b[0m\n",
      "物理: {'input': '什么是黑体辐射?'}\n",
      "\u001b[1m> Finished chain.\u001b[0m\n",
      "{'input': '什么是黑体辐射?', 'text': '黑体辐射是指理想化的物体，它能够吸收所有入射的电磁辐射，不反射也不透过，而且在任何温度下都会以一定的频谱分布发射电磁辐射。在热平衡状态下，这个频谱分布只依赖于黑体的温度，与黑体的材质和形状无关。\\n\\n简而言之，可以想象一个完美的“黑色”容器，无论里面是什么温度，它都能完美地吸收所有光和其他电磁波，并且根据其温度以特定的方式发射出电磁波。这种辐射的强度和频谱分布可以用普朗克黑体辐射定律来描述，它是量子物理学的基础之一。\\n\\n在实际应用中，虽然完美的黑体并不存在，但许多物体在特定波长范围内的行为接近于黑体，因此黑体辐射的概念在热辐射、天体物理学、光谱学和许多其他领域都有着重要的应用。'}\n"
     ]
    }
   ],
   "source": [
    "# 问题：什么是黑体辐射？\n",
    "res = chain.invoke(\"什么是黑体辐射?\")\n",
    "print(res)"
   ]
  },
  {
   "cell_type": "code",
   "execution_count": 36,
   "id": "53908716-3649-44c5-83c7-954b0a42e504",
   "metadata": {},
   "outputs": [
    {
     "name": "stdout",
     "output_type": "stream",
     "text": [
      "黑体辐射是指理想化的物体，它能够吸收所有入射的电磁辐射，不反射也不透过，而且在任何温度下都会以一定的频谱分布发射电磁辐射。在热平衡状态下，这个频谱分布只依赖于黑体的温度，与黑体的材质和形状无关。\n",
      "\n",
      "简而言之，可以想象一个完美的“黑色”容器，无论里面是什么温度，它都能完美地吸收所有光和其他电磁波，并且根据其温度以特定的方式发射出电磁波。这种辐射的强度和频谱分布可以用普朗克黑体辐射定律来描述，它是量子物理学的基础之一。\n",
      "\n",
      "在实际应用中，虽然完美的黑体并不存在，但许多物体在特定波长范围内的行为接近于黑体，因此黑体辐射的概念在热辐射、天体物理学、光谱学和许多其他领域都有着重要的应用。\n"
     ]
    }
   ],
   "source": [
    "print(res[\"text\"])"
   ]
  },
  {
   "cell_type": "code",
   "execution_count": 37,
   "id": "a58eff02-15bd-4295-9a14-5db31def8e61",
   "metadata": {},
   "outputs": [
    {
     "name": "stdout",
     "output_type": "stream",
     "text": [
      "\n",
      "\n",
      "\u001b[1m> Entering new MultiPromptChain chain...\u001b[0m\n",
      "数学: {'input': '三进制数是什么，它如何工作？'}\n",
      "\u001b[1m> Finished chain.\u001b[0m\n"
     ]
    },
    {
     "data": {
      "text/plain": [
       "{'input': '三进制数是什么，它如何工作？',\n",
       " 'text': '三进制数是一种计数系统，和我们所熟悉的十进制数一样，但它基于3而不是10。在三进制系统中，每个位置的数值可以是从0到2的任意整数，因为三进制只有三个数字：0、1和2。这与十进制系统中的0到9相对应。\\n\\n三进制数是这样工作的：\\n\\n1. **位权（Place Value）**：在三进制中，每个位置代表3的幂次。最右边的位置是3的0次方（即1），往左每增加一个位置，幂次就增加1。例如：\\n   - \\\\(2 \\\\times 3^0 = 2 \\\\times 1 = 2\\\\)\\n   - \\\\(1 \\\\times 3^1 = 1 \\\\times 3 = 3\\\\)\\n   - \\\\(0 \\\\times 3^2 = 0 \\\\times 9 = 0\\\\)\\n   - \\\\(1 \\\\times 3^3 = 1 \\\\times 27 = 27\\\\)\\n\\n2. **数值表示**：因此，三进制数“102”表示为：\\n   \\\\(1 \\\\times 3^2 + 0 \\\\times 3^1 + 2 \\\\times 3^0 = 9 + 0 + 2 = 11\\\\)（在十进制中）\\n\\n3. **进位**：当三进制中的一个位置上的数值达到3时，就需要进位，就像十进制中从9到10一样。例如：\\n   - \\\\(2 + 1 = 3\\\\)，在三进制中，这会写成“10”（即十进制中的3），因为3是3的1次方。\\n\\n4. **转换**：将三进制数转换为十进制，可以按照每个位置的位权乘以相应的数字，然后将它们相加。\\n\\n5. **运算**：在三进制下，加法、减法、乘法和除法等基本运算与十进制类似，但需要遵循三进制的规则。\\n\\n下面是一个三进制加法的例子：\\n\\n```\\n  1 2 1  (三进制)\\n+ 2 1 0  (三进制)\\n---------\\n  1 1 2 1 (三进制)\\n```\\n\\n在这个例子中，最右边的位置相加得到1（0+1），然后是2（1+1），接着是1（1+0），最后是进位得到1（因为3等于三进制的“10”）。\\n\\n三进制数在计算机科学和数学的某些领域有特殊用途，例如在某些类型的编码和密码学中。它们也可以用于理解数字系统的基础概念。'}"
      ]
     },
     "execution_count": 37,
     "metadata": {},
     "output_type": "execute_result"
    }
   ],
   "source": [
    "chain.invoke(\"有三进制吗?\")"
   ]
  },
  {
   "cell_type": "code",
   "execution_count": 38,
   "id": "9348aac5-700b-4f69-a8a5-48be85b203b5",
   "metadata": {},
   "outputs": [
    {
     "name": "stdout",
     "output_type": "stream",
     "text": [
      "\n",
      "\n",
      "\u001b[1m> Entering new MultiPromptChain chain...\u001b[0m\n",
      "计算机科学: {'input': '什么是显卡?'}\n",
      "\u001b[1m> Finished chain.\u001b[0m\n"
     ]
    },
    {
     "data": {
      "text/plain": [
       "{'input': '什么是显卡?',\n",
       " 'text': '显卡，也称为图形处理单元（Graphics Processing Unit，GPU），是一种专门设计用来快速处理和渲染图像的电子组件。它是计算机系统中的一个重要部分，负责将计算机生成的图像数据转换成显示器可以理解的格式，并在屏幕上显示出来。\\n\\n显卡的主要功能包括：\\n\\n1. 图形渲染：为计算机游戏、图形设计、视频编辑等应用提供实时的图像渲染能力。\\n2. 视频输出：将处理过的图像数据输出到显示器、电视或其他视觉输出设备。\\n3. 计算加速：在现代显卡中，GPU还可以用于通用计算任务，尤其是那些需要大量并行处理的任务，如机器学习、科学模拟等。\\n\\n显卡的关键特性包括：\\n\\n- 处理能力：由核心数量、核心频率和架构决定。\\n- 内存：显卡上的专用内存（如GDDR5或GDDR6），用于存储正在处理的图像数据和相关的计算数据。\\n- 带宽：影响显卡处理和传输数据的能力。\\n- 兼容性：与计算机系统的接口标准，如PCI Express。\\n- 驱动程序：软件组件，允许操作系统和应用程序与显卡硬件通信。\\n\\n在解决编程问题时，显卡的并行处理能力可以被用来加速某些算法的执行，尤其是那些可以映射到图形处理流水线的算法。例如，在处理复杂图形渲染或大规模并行计算任务时，合适的显卡和相应的编程技术可以大幅提高效率，找到时间复杂度和空间复杂度之间的良好平衡。'}"
      ]
     },
     "execution_count": 38,
     "metadata": {},
     "output_type": "execute_result"
    }
   ],
   "source": [
    "chain.invoke(\"什么是显卡?\")"
   ]
  },
  {
   "cell_type": "code",
   "execution_count": 39,
   "id": "e9760fde-4fe0-44b5-9acc-348d2f91ef59",
   "metadata": {},
   "outputs": [
    {
     "name": "stdout",
     "output_type": "stream",
     "text": [
      "\n",
      "\n",
      "\u001b[1m> Entering new MultiPromptChain chain...\u001b[0m\n",
      "生物: {'input': '为什么我们体内的每个细胞都含有DNA？'}"
     ]
    },
    {
     "ename": "ValueError",
     "evalue": "Received invalid destination chain name '生物'",
     "output_type": "error",
     "traceback": [
      "\u001b[1;31m---------------------------------------------------------------------------\u001b[0m",
      "\u001b[1;31mValueError\u001b[0m                                Traceback (most recent call last)",
      "Cell \u001b[1;32mIn[39], line 2\u001b[0m\n\u001b[0;32m      1\u001b[0m \u001b[38;5;66;03m# 问题：为什么我们身体里的每个细胞都包含DNA？\u001b[39;00m\n\u001b[1;32m----> 2\u001b[0m \u001b[43mchain\u001b[49m\u001b[38;5;241;43m.\u001b[39;49m\u001b[43minvoke\u001b[49m\u001b[43m(\u001b[49m\u001b[38;5;124;43m\"\u001b[39;49m\u001b[38;5;124;43m为什么我们体内的每个细胞都含有DNA?\u001b[39;49m\u001b[38;5;124;43m\"\u001b[39;49m\u001b[43m)\u001b[49m\n",
      "File \u001b[1;32mE:\\Miniconda\\envs\\ai_learn\\Lib\\site-packages\\langchain\\chains\\base.py:166\u001b[0m, in \u001b[0;36mChain.invoke\u001b[1;34m(self, input, config, **kwargs)\u001b[0m\n\u001b[0;32m    164\u001b[0m \u001b[38;5;28;01mexcept\u001b[39;00m \u001b[38;5;167;01mBaseException\u001b[39;00m \u001b[38;5;28;01mas\u001b[39;00m e:\n\u001b[0;32m    165\u001b[0m     run_manager\u001b[38;5;241m.\u001b[39mon_chain_error(e)\n\u001b[1;32m--> 166\u001b[0m     \u001b[38;5;28;01mraise\u001b[39;00m e\n\u001b[0;32m    167\u001b[0m run_manager\u001b[38;5;241m.\u001b[39mon_chain_end(outputs)\n\u001b[0;32m    169\u001b[0m \u001b[38;5;28;01mif\u001b[39;00m include_run_info:\n",
      "File \u001b[1;32mE:\\Miniconda\\envs\\ai_learn\\Lib\\site-packages\\langchain\\chains\\base.py:156\u001b[0m, in \u001b[0;36mChain.invoke\u001b[1;34m(self, input, config, **kwargs)\u001b[0m\n\u001b[0;32m    153\u001b[0m \u001b[38;5;28;01mtry\u001b[39;00m:\n\u001b[0;32m    154\u001b[0m     \u001b[38;5;28mself\u001b[39m\u001b[38;5;241m.\u001b[39m_validate_inputs(inputs)\n\u001b[0;32m    155\u001b[0m     outputs \u001b[38;5;241m=\u001b[39m (\n\u001b[1;32m--> 156\u001b[0m         \u001b[38;5;28;43mself\u001b[39;49m\u001b[38;5;241;43m.\u001b[39;49m\u001b[43m_call\u001b[49m\u001b[43m(\u001b[49m\u001b[43minputs\u001b[49m\u001b[43m,\u001b[49m\u001b[43m \u001b[49m\u001b[43mrun_manager\u001b[49m\u001b[38;5;241;43m=\u001b[39;49m\u001b[43mrun_manager\u001b[49m\u001b[43m)\u001b[49m\n\u001b[0;32m    157\u001b[0m         \u001b[38;5;28;01mif\u001b[39;00m new_arg_supported\n\u001b[0;32m    158\u001b[0m         \u001b[38;5;28;01melse\u001b[39;00m \u001b[38;5;28mself\u001b[39m\u001b[38;5;241m.\u001b[39m_call(inputs)\n\u001b[0;32m    159\u001b[0m     )\n\u001b[0;32m    161\u001b[0m     final_outputs: Dict[\u001b[38;5;28mstr\u001b[39m, Any] \u001b[38;5;241m=\u001b[39m \u001b[38;5;28mself\u001b[39m\u001b[38;5;241m.\u001b[39mprep_outputs(\n\u001b[0;32m    162\u001b[0m         inputs, outputs, return_only_outputs\n\u001b[0;32m    163\u001b[0m     )\n\u001b[0;32m    164\u001b[0m \u001b[38;5;28;01mexcept\u001b[39;00m \u001b[38;5;167;01mBaseException\u001b[39;00m \u001b[38;5;28;01mas\u001b[39;00m e:\n",
      "File \u001b[1;32mE:\\Miniconda\\envs\\ai_learn\\Lib\\site-packages\\langchain\\chains\\router\\base.py:106\u001b[0m, in \u001b[0;36mMultiRouteChain._call\u001b[1;34m(self, inputs, run_manager)\u001b[0m\n\u001b[0;32m    104\u001b[0m     \u001b[38;5;28;01mreturn\u001b[39;00m \u001b[38;5;28mself\u001b[39m\u001b[38;5;241m.\u001b[39mdefault_chain(route\u001b[38;5;241m.\u001b[39mnext_inputs, callbacks\u001b[38;5;241m=\u001b[39mcallbacks)\n\u001b[0;32m    105\u001b[0m \u001b[38;5;28;01melse\u001b[39;00m:\n\u001b[1;32m--> 106\u001b[0m     \u001b[38;5;28;01mraise\u001b[39;00m \u001b[38;5;167;01mValueError\u001b[39;00m(\n\u001b[0;32m    107\u001b[0m         \u001b[38;5;124mf\u001b[39m\u001b[38;5;124m\"\u001b[39m\u001b[38;5;124mReceived invalid destination chain name \u001b[39m\u001b[38;5;124m'\u001b[39m\u001b[38;5;132;01m{\u001b[39;00mroute\u001b[38;5;241m.\u001b[39mdestination\u001b[38;5;132;01m}\u001b[39;00m\u001b[38;5;124m'\u001b[39m\u001b[38;5;124m\"\u001b[39m\n\u001b[0;32m    108\u001b[0m     )\n",
      "\u001b[1;31mValueError\u001b[0m: Received invalid destination chain name '生物'"
     ]
    }
   ],
   "source": [
    "# 问题：为什么我们身体里的每个细胞都包含DNA？\n",
    "chain.invoke(\"为什么我们体内的每个细胞都含有DNA?\")"
   ]
  },
  {
   "cell_type": "code",
   "execution_count": null,
   "id": "ff2304b9-75fc-4411-b3c4-412d5ecdfcb3",
   "metadata": {},
   "outputs": [],
   "source": [
    "# from langchain.chains.router.multi_prompt_prompt import MULTI_PROMPT_ROUTER_TEMPLATE\n",
    "# print(MULTI_PROMPT_ROUTER_TEMPLATE)"
   ]
  },
  {
   "cell_type": "code",
   "execution_count": 40,
   "id": "13d3beb9-3c1f-4aa5-89d0-9861085a2793",
   "metadata": {},
   "outputs": [
    {
     "name": "stdout",
     "output_type": "stream",
     "text": [
      "\n",
      "\n",
      "\u001b[1m> Entering new MultiPromptChain chain...\u001b[0m\n",
      "历史: {'input': '你知道李白是谁嘛?'}\n",
      "\u001b[1m> Finished chain.\u001b[0m\n"
     ]
    },
    {
     "data": {
      "text/plain": [
       "{'input': '你知道李白是谁嘛?',\n",
       " 'text': '当然，李白是唐代（公元618-907年）著名的诗人，被誉为“诗仙”。他的诗歌以其豪放、奔放、想象丰富和语言的鲜明特色而著称，是唐诗中的佼佼者。\\n\\n李白出生于701年，据传是唐朝的皇室远亲，但他的一生并未在朝中担任要职。他的生平充满了传奇色彩，据说他遍历名山大川，酷爱杯中物，追求自由与超脱。他的诗作中，既有歌颂自然美景的，也有表达对英雄理想和远大抱负的追求，还有反映个人失意和孤独的。\\n\\n李白的诗歌在中国文学史上有着极其重要的地位，对后世文人墨客产生了深远的影响。他的部分代表作如《将进酒》、《庐山谣》、《夜泊牛渚怀古》等，至今仍广为传诵。通过他的诗歌，我们可以窥见唐代的社会风貌、文化特色以及当时文人的思想情感。'}"
      ]
     },
     "execution_count": 40,
     "metadata": {},
     "output_type": "execute_result"
    }
   ],
   "source": [
    "chain.invoke(\"你知道李白是谁嘛?\")"
   ]
  },
  {
   "cell_type": "code",
   "execution_count": null,
   "id": "ffb4d6e4-9583-40bf-bc2a-ddfe1ce7a4a1",
   "metadata": {},
   "outputs": [],
   "source": []
  }
 ],
 "metadata": {
  "kernelspec": {
   "display_name": "Python 3 (ipykernel)",
   "language": "python",
   "name": "python3"
  },
  "language_info": {
   "codemirror_mode": {
    "name": "ipython",
    "version": 3
   },
   "file_extension": ".py",
   "mimetype": "text/x-python",
   "name": "python",
   "nbconvert_exporter": "python",
   "pygments_lexer": "ipython3",
   "version": "3.11.9"
  }
 },
 "nbformat": 4,
 "nbformat_minor": 5
}
