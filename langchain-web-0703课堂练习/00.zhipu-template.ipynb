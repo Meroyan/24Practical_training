{
 "cells": [
  {
   "cell_type": "markdown",
   "id": "fdbd91c7-38cb-4e90-9d2c-d3d451d1d12e",
   "metadata": {},
   "source": [
    "# 智谱 API：ZhipuAI\n",
    "\n",
    "我们先从直接调用ZhipuAI的API开始。\n",
    "\n",
    "get_completion函数是基于ZhipuAI的封装函数，对于给定提示（prompt）输出相应的回答。其包含两个参数\n",
    "\n",
    " - prompt 必需输入参数。 你给模型的提示，可以是一个问题，可以是你需要模型帮助你做的事（改变文本写作风格，翻译，回复消息等等）。\n",
    " - model 非必需输入参数。默认使用glm-4。你也可以选择其他模型。\n",
    "\n",
    "这里的提示对应我们给chatglm的问题，函数给出的输出则对应chatglm给我们的答案。"
   ]
  },
  {
   "cell_type": "code",
   "execution_count": 3,
   "id": "da846c7f-6042-4ae2-9c8c-df2def6868be",
   "metadata": {},
   "outputs": [],
   "source": [
    "from zhipuai import ZhipuAI\n",
    "from dotenv import load_dotenv,find_dotenv\n",
    "import os \n",
    "\n",
    "_ = load_dotenv(find_dotenv())\n",
    "client = ZhipuAI(api_key=os.environ[\"ZHIPUAI_API_KEY\"]) # 请填写您自己的APIKey"
   ]
  },
  {
   "cell_type": "code",
   "execution_count": 4,
   "id": "9190529d-4fe9-49a8-a233-343c6710006f",
   "metadata": {},
   "outputs": [],
   "source": [
    "def get_completion(prompt,model=\"glm-4\"):\n",
    "    messages=[\n",
    "        {\"role\": \"user\", \"content\": prompt},\n",
    "    ]\n",
    "    response = client.chat.completions.create(\n",
    "        model=model,       # 填写需要调用的模型名称\n",
    "        temperature = 0.0,\n",
    "        messages = messages\n",
    "    )\n",
    "\n",
    "    return response.choices[0].message.content\n",
    "    "
   ]
  },
  {
   "cell_type": "markdown",
   "id": "236d2a4b-26e5-4627-b969-0de93c5a8927",
   "metadata": {},
   "source": [
    "## 一个简单的例子\n",
    "### 我们来一个简单的例子 - 分别用中英文问问模型\n",
    "\n",
    " - 中文提示(Prompt in Chinese)： 1+1是什么？\n",
    " - 英文提示(Prompt in English)： What is 1+1?"
   ]
  },
  {
   "cell_type": "code",
   "execution_count": 5,
   "id": "f6ba2581-18f1-480a-89ef-0febc82b9647",
   "metadata": {},
   "outputs": [
    {
     "data": {
      "text/plain": [
       "'1 加上 10 等于 11。'"
      ]
     },
     "execution_count": 5,
     "metadata": {},
     "output_type": "execute_result"
    }
   ],
   "source": [
    "get_completion(\"1+10等于多少？\")"
   ]
  },
  {
   "cell_type": "code",
   "execution_count": 6,
   "id": "ed741ee8-0c20-472c-8e30-2952a04c5c06",
   "metadata": {},
   "outputs": [
    {
     "data": {
      "text/plain": [
       "'1+1 equals 2. This is a fundamental arithmetic operation representing the sum of two single units.'"
      ]
     },
     "execution_count": 6,
     "metadata": {},
     "output_type": "execute_result"
    }
   ],
   "source": [
    "get_completion(\"What is 1+1?\")"
   ]
  },
  {
   "cell_type": "markdown",
   "id": "a163ff6b-9482-408c-bcb8-ef6e2f4094a2",
   "metadata": {},
   "source": [
    "## 复杂一点例子\n",
    "上面的简单例子，模型glm-4对我们的关于1+1是什么的提问给出了回答。\n",
    "\n",
    "现在我们来看一个复杂一点的例子：\n",
    "\n",
    "我们可以翻译一些日常俚语"
   ]
  },
  {
   "cell_type": "code",
   "execution_count": 7,
   "id": "4cc507c6-9302-423b-8cb6-08b8a917d9aa",
   "metadata": {},
   "outputs": [],
   "source": [
    "orginal_txt = \"\"\"\n",
    "我现在可以吃下一头象。\n",
    "\"\"\""
   ]
  },
  {
   "cell_type": "markdown",
   "id": "65004d92-fcc1-4a3a-80eb-e92b5c64ae3c",
   "metadata": {},
   "source": [
    "### 现在我们想要实现两个小目标：\n",
    "\n",
    " - 让模型用普通话的表达方式将日常俚语进行翻译。\n",
    " - 让模型在翻译是用平和尊重的语气进行表达。\n",
    "   \n",
    "根据这两个小目标，定义一下文本表达风格：style"
   ]
  },
  {
   "cell_type": "code",
   "execution_count": 8,
   "id": "d111c5a8-ece6-4289-b05f-ab96a011579d",
   "metadata": {},
   "outputs": [],
   "source": [
    "style = \"\"\"\n",
    "中国大陆普通话 \\\n",
    "日常口语 \\\n",
    "平常和礼貌的语气\n",
    "\"\"\""
   ]
  },
  {
   "cell_type": "markdown",
   "id": "83f3e275-781c-48bc-aee6-6ceadae7ccae",
   "metadata": {},
   "source": [
    "下一步需要做的是将customer_email和style结合起来构造我们的提示:prompt"
   ]
  },
  {
   "cell_type": "code",
   "execution_count": 9,
   "id": "b5add8a9-0a3d-411f-a6e3-4d0483c3fb4e",
   "metadata": {},
   "outputs": [],
   "source": [
    "prompt = f\"\"\"用{style}格式,翻译一下这个用三个反引号分隔的文本 .\n",
    "```{orginal_txt}```\n",
    "\"\"\""
   ]
  },
  {
   "cell_type": "code",
   "execution_count": 10,
   "id": "ddb297a8-adb9-450d-9471-5286ca7a4ce5",
   "metadata": {},
   "outputs": [
    {
     "name": "stdout",
     "output_type": "stream",
     "text": [
      "用\n",
      "中国大陆普通话 日常口语 平常和礼貌的语气\n",
      "格式,翻译一下这个用三个反引号分隔的文本 .\n",
      "```\n",
      "我现在可以吃下一头象。\n",
      "```\n",
      "\n"
     ]
    }
   ],
   "source": [
    "print(prompt)"
   ]
  },
  {
   "cell_type": "markdown",
   "id": "880930a6-e362-4cc6-b4ed-5e66c32e3ac6",
   "metadata": {},
   "source": [
    "prompt 构造好了，我们可以调用get_completion得到我们想要的结果 "
   ]
  },
  {
   "cell_type": "code",
   "execution_count": 11,
   "id": "6736939c-12bc-4cd0-8241-82381c271392",
   "metadata": {},
   "outputs": [
    {
     "data": {
      "text/plain": [
       "'在符合中国大陆普通话的日常口语表达中，如果要用平常且礼貌的语气翻译这句话“我现在可以吃下一头象”，可以这样说：\\n\\n“我现在真是饿得能吃下一头大象呢。”\\n\\n这里的“呢”字带有一种轻松的语气，使得整个句子听起来既有饥饿的感觉，又不失礼貌和幽默。'"
      ]
     },
     "execution_count": 11,
     "metadata": {},
     "output_type": "execute_result"
    }
   ],
   "source": [
    "get_completion(prompt)"
   ]
  },
  {
   "cell_type": "code",
   "execution_count": 20,
   "id": "85144908-657c-4439-8385-a8ab5c4b0797",
   "metadata": {},
   "outputs": [
    {
     "name": "stdout",
     "output_type": "stream",
     "text": [
      "用\n",
      "平和尊重的语气\n",
      "格式翻译一下这个用三个反引号分隔的文本 .\n",
      "```\n",
      "我现在可以吃下一头象。\n",
      "```\n",
      "\n"
     ]
    }
   ],
   "source": [
    "style2=\"\"\"\n",
    "平和尊重的语气\n",
    "\"\"\"\n",
    "prompt2=f\"\"\"用{style2}格式翻译一下这个用三个反引号分隔的文本 .\n",
    "```{orginal_txt}```\n",
    "\"\"\"\n",
    "print(prompt2)"
   ]
  },
  {
   "cell_type": "code",
   "execution_count": 21,
   "id": "61a751eb-c394-406d-af8e-6975fe7bb062",
   "metadata": {},
   "outputs": [
    {
     "data": {
      "text/plain": [
       "'以一种平和且尊重的语气来表达这句话，可以是：\\n\\n\"我现在的食欲真的很旺盛，仿佛能够享用一顿丰盛的大餐。\"'"
      ]
     },
     "execution_count": 21,
     "metadata": {},
     "output_type": "execute_result"
    }
   ],
   "source": [
    "get_completion(prompt2)"
   ]
  },
  {
   "cell_type": "code",
   "execution_count": null,
   "id": "747c0b85-a16e-49c0-afbe-2d3c0d3feb5d",
   "metadata": {},
   "outputs": [],
   "source": []
  }
 ],
 "metadata": {
  "kernelspec": {
   "display_name": "Python 3 (ipykernel)",
   "language": "python",
   "name": "python3"
  },
  "language_info": {
   "codemirror_mode": {
    "name": "ipython",
    "version": 3
   },
   "file_extension": ".py",
   "mimetype": "text/x-python",
   "name": "python",
   "nbconvert_exporter": "python",
   "pygments_lexer": "ipython3",
   "version": "3.11.9"
  }
 },
 "nbformat": 4,
 "nbformat_minor": 5
}
